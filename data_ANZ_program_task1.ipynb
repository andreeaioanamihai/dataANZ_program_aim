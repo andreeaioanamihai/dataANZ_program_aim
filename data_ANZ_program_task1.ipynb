{
  "nbformat": 4,
  "nbformat_minor": 0,
  "metadata": {
    "colab": {
      "name": "data@ANZ_program_task1.ipynb",
      "provenance": [],
      "collapsed_sections": [],
      "toc_visible": true
    },
    "kernelspec": {
      "name": "python3",
      "display_name": "Python 3"
    },
    "language_info": {
      "name": "python"
    }
  },
  "cells": [
    {
      "cell_type": "markdown",
      "metadata": {
        "id": "cNFQYNKTb2Tu"
      },
      "source": [
        "#End-to-end exploratory data analysis project: Task 1\n",
        "\n",
        "### **Data Description:**\n",
        "\n",
        "This task is based on a synthesised transaction dataset containing 3 months’ worth of transactions for 100 hypothetical customers. It contains purchases, recurring transactions, and salary transactions.\n",
        "\n",
        "The dataset is designed to simulate realistic transaction behaviours that are observed in ANZ’s real transaction data, so many of the insights you can gather from the tasks below will be genuine.\n",
        "\n",
        "---\n",
        "\n",
        "The original data from this Excel format used for this analysis comes from https://www.theforage.com/modules/ZLJCsrpkHo9pZBJNY/BiJPfqmGY2QwgN6gA?ref=LW7dHDBSC956M2559.\n",
        "\n",
        "---\n",
        "\n",
        "### **Analysis Purpose:**\n",
        "\n",
        "*   Start by doing some basic checks – are there any data issues? Does the data need to be cleaned?\n",
        "\n",
        "*   Gather some interesting overall insights about the data. For example -- what is the average transaction amount? How many transactions do customers make each month, on average?\n",
        "\n",
        "*   Segment the dataset by transaction date and time. Visualise transaction volume and spending over the course of an average day or week. Consider the effect of any outliers that may distort your analysis.\n",
        "\n",
        "*   For a challenge – what insights can you draw from the location information provided in the dataset?\n",
        "\n",
        "\n",
        "Put together 2-3 slides summarising your most interesting findings to ANZ management."
      ]
    },
    {
      "cell_type": "markdown",
      "metadata": {
        "id": "Ecxa9bjRLiwK"
      },
      "source": [
        " **Import libraries**"
      ]
    },
    {
      "cell_type": "code",
      "metadata": {
        "id": "x6Xa7ryJlSlr"
      },
      "source": [
        "# Required libraries for analysis\n",
        "import pandas as pd\n",
        "import numpy as np\n",
        "from scipy import stats\n",
        "import seaborn as sns; sns.set()\n",
        "\n",
        "import matplotlib.pyplot as plt\n",
        "import math\n",
        "\n",
        "# Suppress warnings (warnings do not prevent the code from executing)\n",
        "import warnings\n",
        "warnings.filterwarnings(\"ignore\")"
      ],
      "execution_count": 61,
      "outputs": []
    },
    {
      "cell_type": "code",
      "metadata": {
        "colab": {
          "base_uri": "https://localhost:8080/"
        },
        "id": "as3jwyLMERRA",
        "outputId": "582c4e3e-23fc-4aa1-9f6f-2d40aab0acf1"
      },
      "source": [
        "# Connect to the data source, in this case a csv file stored on my G Drive\n",
        "from google.colab import drive\n",
        "drive.mount('/content/gdrive')"
      ],
      "execution_count": 62,
      "outputs": [
        {
          "output_type": "stream",
          "name": "stdout",
          "text": [
            "Drive already mounted at /content/gdrive; to attempt to forcibly remount, call drive.mount(\"/content/gdrive\", force_remount=True).\n"
          ]
        }
      ]
    },
    {
      "cell_type": "markdown",
      "metadata": {
        "id": "jUEs0kSvFY0I"
      },
      "source": [
        "# **1. Read Data**"
      ]
    },
    {
      "cell_type": "code",
      "metadata": {
        "colab": {
          "base_uri": "https://localhost:8080/",
          "height": 475
        },
        "id": "sg1_iSWzERxA",
        "outputId": "655b4f32-0c98-4033-e60b-125556930b5c"
      },
      "source": [
        "# Upload the csv file into pandas, original Dataset from Forage website\n",
        "data = pd.read_excel('/content/gdrive/My Drive/transactiondataset.xlsx')\n",
        "data.head()"
      ],
      "execution_count": 63,
      "outputs": [
        {
          "output_type": "execute_result",
          "data": {
            "text/html": [
              "<div>\n",
              "<style scoped>\n",
              "    .dataframe tbody tr th:only-of-type {\n",
              "        vertical-align: middle;\n",
              "    }\n",
              "\n",
              "    .dataframe tbody tr th {\n",
              "        vertical-align: top;\n",
              "    }\n",
              "\n",
              "    .dataframe thead th {\n",
              "        text-align: right;\n",
              "    }\n",
              "</style>\n",
              "<table border=\"1\" class=\"dataframe\">\n",
              "  <thead>\n",
              "    <tr style=\"text-align: right;\">\n",
              "      <th></th>\n",
              "      <th>status</th>\n",
              "      <th>card_present_flag</th>\n",
              "      <th>bpay_biller_code</th>\n",
              "      <th>account</th>\n",
              "      <th>currency</th>\n",
              "      <th>long_lat</th>\n",
              "      <th>txn_description</th>\n",
              "      <th>merchant_id</th>\n",
              "      <th>merchant_code</th>\n",
              "      <th>first_name</th>\n",
              "      <th>balance</th>\n",
              "      <th>date</th>\n",
              "      <th>gender</th>\n",
              "      <th>age</th>\n",
              "      <th>merchant_suburb</th>\n",
              "      <th>merchant_state</th>\n",
              "      <th>extraction</th>\n",
              "      <th>amount</th>\n",
              "      <th>transaction_id</th>\n",
              "      <th>country</th>\n",
              "      <th>customer_id</th>\n",
              "      <th>merchant_long_lat</th>\n",
              "      <th>movement</th>\n",
              "    </tr>\n",
              "  </thead>\n",
              "  <tbody>\n",
              "    <tr>\n",
              "      <th>0</th>\n",
              "      <td>authorized</td>\n",
              "      <td>1.0</td>\n",
              "      <td>NaN</td>\n",
              "      <td>ACC-1598451071</td>\n",
              "      <td>AUD</td>\n",
              "      <td>153.41 -27.95</td>\n",
              "      <td>POS</td>\n",
              "      <td>81c48296-73be-44a7-befa-d053f48ce7cd</td>\n",
              "      <td>NaN</td>\n",
              "      <td>Diana</td>\n",
              "      <td>35.39</td>\n",
              "      <td>2018-08-01</td>\n",
              "      <td>F</td>\n",
              "      <td>26</td>\n",
              "      <td>Ashmore</td>\n",
              "      <td>QLD</td>\n",
              "      <td>2018-08-01T01:01:15.000+0000</td>\n",
              "      <td>16.25</td>\n",
              "      <td>a623070bfead4541a6b0fff8a09e706c</td>\n",
              "      <td>Australia</td>\n",
              "      <td>CUS-2487424745</td>\n",
              "      <td>153.38 -27.99</td>\n",
              "      <td>debit</td>\n",
              "    </tr>\n",
              "    <tr>\n",
              "      <th>1</th>\n",
              "      <td>authorized</td>\n",
              "      <td>0.0</td>\n",
              "      <td>NaN</td>\n",
              "      <td>ACC-1598451071</td>\n",
              "      <td>AUD</td>\n",
              "      <td>153.41 -27.95</td>\n",
              "      <td>SALES-POS</td>\n",
              "      <td>830a451c-316e-4a6a-bf25-e37caedca49e</td>\n",
              "      <td>NaN</td>\n",
              "      <td>Diana</td>\n",
              "      <td>21.20</td>\n",
              "      <td>2018-08-01</td>\n",
              "      <td>F</td>\n",
              "      <td>26</td>\n",
              "      <td>Sydney</td>\n",
              "      <td>NSW</td>\n",
              "      <td>2018-08-01T01:13:45.000+0000</td>\n",
              "      <td>14.19</td>\n",
              "      <td>13270a2a902145da9db4c951e04b51b9</td>\n",
              "      <td>Australia</td>\n",
              "      <td>CUS-2487424745</td>\n",
              "      <td>151.21 -33.87</td>\n",
              "      <td>debit</td>\n",
              "    </tr>\n",
              "    <tr>\n",
              "      <th>2</th>\n",
              "      <td>authorized</td>\n",
              "      <td>1.0</td>\n",
              "      <td>NaN</td>\n",
              "      <td>ACC-1222300524</td>\n",
              "      <td>AUD</td>\n",
              "      <td>151.23 -33.94</td>\n",
              "      <td>POS</td>\n",
              "      <td>835c231d-8cdf-4e96-859d-e9d571760cf0</td>\n",
              "      <td>NaN</td>\n",
              "      <td>Michael</td>\n",
              "      <td>5.71</td>\n",
              "      <td>2018-08-01</td>\n",
              "      <td>M</td>\n",
              "      <td>38</td>\n",
              "      <td>Sydney</td>\n",
              "      <td>NSW</td>\n",
              "      <td>2018-08-01T01:26:15.000+0000</td>\n",
              "      <td>6.42</td>\n",
              "      <td>feb79e7ecd7048a5a36ec889d1a94270</td>\n",
              "      <td>Australia</td>\n",
              "      <td>CUS-2142601169</td>\n",
              "      <td>151.21 -33.87</td>\n",
              "      <td>debit</td>\n",
              "    </tr>\n",
              "    <tr>\n",
              "      <th>3</th>\n",
              "      <td>authorized</td>\n",
              "      <td>1.0</td>\n",
              "      <td>NaN</td>\n",
              "      <td>ACC-1037050564</td>\n",
              "      <td>AUD</td>\n",
              "      <td>153.10 -27.66</td>\n",
              "      <td>SALES-POS</td>\n",
              "      <td>48514682-c78a-4a88-b0da-2d6302e64673</td>\n",
              "      <td>NaN</td>\n",
              "      <td>Rhonda</td>\n",
              "      <td>2117.22</td>\n",
              "      <td>2018-08-01</td>\n",
              "      <td>F</td>\n",
              "      <td>40</td>\n",
              "      <td>Buderim</td>\n",
              "      <td>QLD</td>\n",
              "      <td>2018-08-01T01:38:45.000+0000</td>\n",
              "      <td>40.90</td>\n",
              "      <td>2698170da3704fd981b15e64a006079e</td>\n",
              "      <td>Australia</td>\n",
              "      <td>CUS-1614226872</td>\n",
              "      <td>153.05 -26.68</td>\n",
              "      <td>debit</td>\n",
              "    </tr>\n",
              "    <tr>\n",
              "      <th>4</th>\n",
              "      <td>authorized</td>\n",
              "      <td>1.0</td>\n",
              "      <td>NaN</td>\n",
              "      <td>ACC-1598451071</td>\n",
              "      <td>AUD</td>\n",
              "      <td>153.41 -27.95</td>\n",
              "      <td>SALES-POS</td>\n",
              "      <td>b4e02c10-0852-4273-b8fd-7b3395e32eb0</td>\n",
              "      <td>NaN</td>\n",
              "      <td>Diana</td>\n",
              "      <td>17.95</td>\n",
              "      <td>2018-08-01</td>\n",
              "      <td>F</td>\n",
              "      <td>26</td>\n",
              "      <td>Mermaid Beach</td>\n",
              "      <td>QLD</td>\n",
              "      <td>2018-08-01T01:51:15.000+0000</td>\n",
              "      <td>3.25</td>\n",
              "      <td>329adf79878c4cf0aeb4188b4691c266</td>\n",
              "      <td>Australia</td>\n",
              "      <td>CUS-2487424745</td>\n",
              "      <td>153.44 -28.06</td>\n",
              "      <td>debit</td>\n",
              "    </tr>\n",
              "  </tbody>\n",
              "</table>\n",
              "</div>"
            ],
            "text/plain": [
              "       status  card_present_flag  ... merchant_long_lat movement\n",
              "0  authorized                1.0  ...     153.38 -27.99    debit\n",
              "1  authorized                0.0  ...     151.21 -33.87    debit\n",
              "2  authorized                1.0  ...     151.21 -33.87    debit\n",
              "3  authorized                1.0  ...     153.05 -26.68    debit\n",
              "4  authorized                1.0  ...     153.44 -28.06    debit\n",
              "\n",
              "[5 rows x 23 columns]"
            ]
          },
          "metadata": {},
          "execution_count": 63
        }
      ]
    },
    {
      "cell_type": "markdown",
      "metadata": {
        "id": "wAoDxSsRFsru"
      },
      "source": [
        "The synthesised transaction dataset containing 3 months’ worth of transactions for 100 hypothetical customers.\n",
        "\n",
        "It contains purchases, recurring transactions, and salary transactions."
      ]
    },
    {
      "cell_type": "markdown",
      "metadata": {
        "id": "ohltZ9BaG-1G"
      },
      "source": [
        "# **2. Basic Checks**"
      ]
    },
    {
      "cell_type": "code",
      "metadata": {
        "colab": {
          "base_uri": "https://localhost:8080/",
          "height": 758
        },
        "id": "2ohi3HHXFU3G",
        "outputId": "f919318e-420c-48a8-d960-a69b2b272c8f"
      },
      "source": [
        "# What columns are we working with?\n",
        "pd.DataFrame({\"Columns\": data.columns})"
      ],
      "execution_count": 64,
      "outputs": [
        {
          "output_type": "execute_result",
          "data": {
            "text/html": [
              "<div>\n",
              "<style scoped>\n",
              "    .dataframe tbody tr th:only-of-type {\n",
              "        vertical-align: middle;\n",
              "    }\n",
              "\n",
              "    .dataframe tbody tr th {\n",
              "        vertical-align: top;\n",
              "    }\n",
              "\n",
              "    .dataframe thead th {\n",
              "        text-align: right;\n",
              "    }\n",
              "</style>\n",
              "<table border=\"1\" class=\"dataframe\">\n",
              "  <thead>\n",
              "    <tr style=\"text-align: right;\">\n",
              "      <th></th>\n",
              "      <th>Columns</th>\n",
              "    </tr>\n",
              "  </thead>\n",
              "  <tbody>\n",
              "    <tr>\n",
              "      <th>0</th>\n",
              "      <td>status</td>\n",
              "    </tr>\n",
              "    <tr>\n",
              "      <th>1</th>\n",
              "      <td>card_present_flag</td>\n",
              "    </tr>\n",
              "    <tr>\n",
              "      <th>2</th>\n",
              "      <td>bpay_biller_code</td>\n",
              "    </tr>\n",
              "    <tr>\n",
              "      <th>3</th>\n",
              "      <td>account</td>\n",
              "    </tr>\n",
              "    <tr>\n",
              "      <th>4</th>\n",
              "      <td>currency</td>\n",
              "    </tr>\n",
              "    <tr>\n",
              "      <th>5</th>\n",
              "      <td>long_lat</td>\n",
              "    </tr>\n",
              "    <tr>\n",
              "      <th>6</th>\n",
              "      <td>txn_description</td>\n",
              "    </tr>\n",
              "    <tr>\n",
              "      <th>7</th>\n",
              "      <td>merchant_id</td>\n",
              "    </tr>\n",
              "    <tr>\n",
              "      <th>8</th>\n",
              "      <td>merchant_code</td>\n",
              "    </tr>\n",
              "    <tr>\n",
              "      <th>9</th>\n",
              "      <td>first_name</td>\n",
              "    </tr>\n",
              "    <tr>\n",
              "      <th>10</th>\n",
              "      <td>balance</td>\n",
              "    </tr>\n",
              "    <tr>\n",
              "      <th>11</th>\n",
              "      <td>date</td>\n",
              "    </tr>\n",
              "    <tr>\n",
              "      <th>12</th>\n",
              "      <td>gender</td>\n",
              "    </tr>\n",
              "    <tr>\n",
              "      <th>13</th>\n",
              "      <td>age</td>\n",
              "    </tr>\n",
              "    <tr>\n",
              "      <th>14</th>\n",
              "      <td>merchant_suburb</td>\n",
              "    </tr>\n",
              "    <tr>\n",
              "      <th>15</th>\n",
              "      <td>merchant_state</td>\n",
              "    </tr>\n",
              "    <tr>\n",
              "      <th>16</th>\n",
              "      <td>extraction</td>\n",
              "    </tr>\n",
              "    <tr>\n",
              "      <th>17</th>\n",
              "      <td>amount</td>\n",
              "    </tr>\n",
              "    <tr>\n",
              "      <th>18</th>\n",
              "      <td>transaction_id</td>\n",
              "    </tr>\n",
              "    <tr>\n",
              "      <th>19</th>\n",
              "      <td>country</td>\n",
              "    </tr>\n",
              "    <tr>\n",
              "      <th>20</th>\n",
              "      <td>customer_id</td>\n",
              "    </tr>\n",
              "    <tr>\n",
              "      <th>21</th>\n",
              "      <td>merchant_long_lat</td>\n",
              "    </tr>\n",
              "    <tr>\n",
              "      <th>22</th>\n",
              "      <td>movement</td>\n",
              "    </tr>\n",
              "  </tbody>\n",
              "</table>\n",
              "</div>"
            ],
            "text/plain": [
              "              Columns\n",
              "0              status\n",
              "1   card_present_flag\n",
              "2    bpay_biller_code\n",
              "3             account\n",
              "4            currency\n",
              "5            long_lat\n",
              "6     txn_description\n",
              "7         merchant_id\n",
              "8       merchant_code\n",
              "9          first_name\n",
              "10            balance\n",
              "11               date\n",
              "12             gender\n",
              "13                age\n",
              "14    merchant_suburb\n",
              "15     merchant_state\n",
              "16         extraction\n",
              "17             amount\n",
              "18     transaction_id\n",
              "19            country\n",
              "20        customer_id\n",
              "21  merchant_long_lat\n",
              "22           movement"
            ]
          },
          "metadata": {},
          "execution_count": 64
        }
      ]
    },
    {
      "cell_type": "code",
      "metadata": {
        "colab": {
          "base_uri": "https://localhost:8080/"
        },
        "id": "9duFt0pkGAOw",
        "outputId": "5e148ff7-eb0b-44d7-a588-a008c65c262b"
      },
      "source": [
        "# Let's see overall shape \n",
        "print(\"Data shape:\" , data.shape)"
      ],
      "execution_count": 65,
      "outputs": [
        {
          "output_type": "stream",
          "name": "stdout",
          "text": [
            "Data shape: (12043, 23)\n"
          ]
        }
      ]
    },
    {
      "cell_type": "markdown",
      "metadata": {
        "id": "0EF_23KoIERc"
      },
      "source": [
        "### **2.1. Unique customers, unique transactions and 3 months of data**\n",
        "\n",
        "*   100 unique customers (customer_id)\n",
        "*   Each row corresponds to a uniwue transaction ID(transaction_id)\n",
        "*   3 months worth of data (date)\n",
        "\n",
        "\n"
      ]
    },
    {
      "cell_type": "code",
      "metadata": {
        "colab": {
          "base_uri": "https://localhost:8080/"
        },
        "id": "oH99NbeEIlSM",
        "outputId": "097f3a9f-d1ec-4bdf-9a69-5028239a422c"
      },
      "source": [
        "print(\"Number of unique customer ID's:\", data.customer_id.nunique())"
      ],
      "execution_count": 70,
      "outputs": [
        {
          "output_type": "stream",
          "name": "stdout",
          "text": [
            "Number of unique customer ID's: 100\n"
          ]
        }
      ]
    },
    {
      "cell_type": "code",
      "metadata": {
        "colab": {
          "base_uri": "https://localhost:8080/"
        },
        "id": "BOcTNAUEI42U",
        "outputId": "26f8d2bb-8412-4e68-ddaf-630db5b5c9fe"
      },
      "source": [
        "print(\"Number of rows in dataset:\", len(data))\n",
        "print(\"Number of unique transaction ID's:\", data.transaction_id.nunique())"
      ],
      "execution_count": 71,
      "outputs": [
        {
          "output_type": "stream",
          "name": "stdout",
          "text": [
            "Number of rows in dataset: 12043\n",
            "Number of unique transaction ID's: 12043\n"
          ]
        }
      ]
    },
    {
      "cell_type": "markdown",
      "metadata": {
        "id": "Csv-9cLBJcbT"
      },
      "source": [
        "Number of unique ID's corresponds to the number of rows in the dataset which suggests that each row represents a unique transaction."
      ]
    },
    {
      "cell_type": "code",
      "metadata": {
        "colab": {
          "base_uri": "https://localhost:8080/"
        },
        "id": "NfNT40FJJo27",
        "outputId": "747f468f-d683-4924-da86-431fa29987f9"
      },
      "source": [
        "data.date.describe()"
      ],
      "execution_count": 72,
      "outputs": [
        {
          "output_type": "execute_result",
          "data": {
            "text/plain": [
              "count                   12043\n",
              "unique                     91\n",
              "top       2018-09-28 00:00:00\n",
              "freq                      174\n",
              "first     2018-08-01 00:00:00\n",
              "last      2018-10-31 00:00:00\n",
              "Name: date, dtype: object"
            ]
          },
          "metadata": {},
          "execution_count": 72
        }
      ]
    },
    {
      "cell_type": "markdown",
      "metadata": {
        "id": "Sq73zAiRM8a1"
      },
      "source": [
        "We do indeed have 3 months worth of data, starting from 1/8/2018 to 31/10/2018. However, there are only 91 unique days which means that there is one missing day."
      ]
    },
    {
      "cell_type": "code",
      "metadata": {
        "colab": {
          "base_uri": "https://localhost:8080/"
        },
        "id": "DcFpNLZlM_2T",
        "outputId": "41c0e4cc-1953-49cd-c934-5bb2cc646135"
      },
      "source": [
        "pd.date_range(start = \"2018-08-01\", end = \"2018-10-31\").difference(data.date)"
      ],
      "execution_count": 74,
      "outputs": [
        {
          "output_type": "execute_result",
          "data": {
            "text/plain": [
              "DatetimeIndex(['2018-08-16'], dtype='datetime64[ns]', freq=None)"
            ]
          },
          "metadata": {},
          "execution_count": 74
        }
      ]
    },
    {
      "cell_type": "markdown",
      "metadata": {
        "id": "Gr5vYjtWNDvg"
      },
      "source": [
        "We have one missing date on 16/8/2018."
      ]
    },
    {
      "cell_type": "markdown",
      "metadata": {
        "id": "WM7dvx_nHvml"
      },
      "source": [
        "### **2.2. Handling nulls and data types:**"
      ]
    },
    {
      "cell_type": "code",
      "metadata": {
        "colab": {
          "base_uri": "https://localhost:8080/"
        },
        "id": "g10TP_dNHnBF",
        "outputId": "5ae0c1b0-d593-48ac-f2b5-98f0baca8e4c"
      },
      "source": [
        "# Let's see overall type of data\n",
        "data.info()"
      ],
      "execution_count": null,
      "outputs": [
        {
          "output_type": "stream",
          "name": "stdout",
          "text": [
            "<class 'pandas.core.frame.DataFrame'>\n",
            "RangeIndex: 12043 entries, 0 to 12042\n",
            "Data columns (total 23 columns):\n",
            " #   Column             Non-Null Count  Dtype         \n",
            "---  ------             --------------  -----         \n",
            " 0   status             12043 non-null  object        \n",
            " 1   card_present_flag  7717 non-null   float64       \n",
            " 2   bpay_biller_code   885 non-null    object        \n",
            " 3   account            12043 non-null  object        \n",
            " 4   currency           12043 non-null  object        \n",
            " 5   long_lat           12043 non-null  object        \n",
            " 6   txn_description    12043 non-null  object        \n",
            " 7   merchant_id        7717 non-null   object        \n",
            " 8   merchant_code      883 non-null    float64       \n",
            " 9   first_name         12043 non-null  object        \n",
            " 10  balance            12043 non-null  float64       \n",
            " 11  date               12043 non-null  datetime64[ns]\n",
            " 12  gender             12043 non-null  object        \n",
            " 13  age                12043 non-null  int64         \n",
            " 14  merchant_suburb    7717 non-null   object        \n",
            " 15  merchant_state     7717 non-null   object        \n",
            " 16  extraction         12043 non-null  object        \n",
            " 17  amount             12043 non-null  float64       \n",
            " 18  transaction_id     12043 non-null  object        \n",
            " 19  country            12043 non-null  object        \n",
            " 20  customer_id        12043 non-null  object        \n",
            " 21  merchant_long_lat  7717 non-null   object        \n",
            " 22  movement           12043 non-null  object        \n",
            "dtypes: datetime64[ns](1), float64(4), int64(1), object(17)\n",
            "memory usage: 2.1+ MB\n"
          ]
        }
      ]
    },
    {
      "cell_type": "markdown",
      "metadata": {
        "id": "4aCGjylNNq4w"
      },
      "source": [
        "The info function provides information about the data types and presence of missing values in each column of the dataset."
      ]
    },
    {
      "cell_type": "code",
      "metadata": {
        "colab": {
          "base_uri": "https://localhost:8080/"
        },
        "id": "BhwtH3AlHrCe",
        "outputId": "a27f5ab8-ea3d-4784-b42e-760b346fe652"
      },
      "source": [
        "# Let's identify rows that contain nulls\n",
        "data.isnull().values.any()"
      ],
      "execution_count": null,
      "outputs": [
        {
          "output_type": "execute_result",
          "data": {
            "text/plain": [
              "True"
            ]
          },
          "metadata": {},
          "execution_count": 67
        }
      ]
    },
    {
      "cell_type": "code",
      "metadata": {
        "colab": {
          "base_uri": "https://localhost:8080/",
          "height": 797
        },
        "id": "Yt31BlMaHxwl",
        "outputId": "9d6e542c-c92b-4a81-872b-c577f1202f37"
      },
      "source": [
        "null_rows = data[data.isnull().any(axis=1)]\n",
        "null_rows.head(10)"
      ],
      "execution_count": null,
      "outputs": [
        {
          "output_type": "execute_result",
          "data": {
            "text/html": [
              "<div>\n",
              "<style scoped>\n",
              "    .dataframe tbody tr th:only-of-type {\n",
              "        vertical-align: middle;\n",
              "    }\n",
              "\n",
              "    .dataframe tbody tr th {\n",
              "        vertical-align: top;\n",
              "    }\n",
              "\n",
              "    .dataframe thead th {\n",
              "        text-align: right;\n",
              "    }\n",
              "</style>\n",
              "<table border=\"1\" class=\"dataframe\">\n",
              "  <thead>\n",
              "    <tr style=\"text-align: right;\">\n",
              "      <th></th>\n",
              "      <th>status</th>\n",
              "      <th>card_present_flag</th>\n",
              "      <th>bpay_biller_code</th>\n",
              "      <th>account</th>\n",
              "      <th>currency</th>\n",
              "      <th>long_lat</th>\n",
              "      <th>txn_description</th>\n",
              "      <th>merchant_id</th>\n",
              "      <th>merchant_code</th>\n",
              "      <th>first_name</th>\n",
              "      <th>balance</th>\n",
              "      <th>date</th>\n",
              "      <th>gender</th>\n",
              "      <th>age</th>\n",
              "      <th>merchant_suburb</th>\n",
              "      <th>merchant_state</th>\n",
              "      <th>extraction</th>\n",
              "      <th>amount</th>\n",
              "      <th>transaction_id</th>\n",
              "      <th>country</th>\n",
              "      <th>customer_id</th>\n",
              "      <th>merchant_long_lat</th>\n",
              "      <th>movement</th>\n",
              "    </tr>\n",
              "  </thead>\n",
              "  <tbody>\n",
              "    <tr>\n",
              "      <th>0</th>\n",
              "      <td>authorized</td>\n",
              "      <td>1.0</td>\n",
              "      <td>NaN</td>\n",
              "      <td>ACC-1598451071</td>\n",
              "      <td>AUD</td>\n",
              "      <td>153.41 -27.95</td>\n",
              "      <td>POS</td>\n",
              "      <td>81c48296-73be-44a7-befa-d053f48ce7cd</td>\n",
              "      <td>NaN</td>\n",
              "      <td>Diana</td>\n",
              "      <td>35.39</td>\n",
              "      <td>2018-08-01</td>\n",
              "      <td>F</td>\n",
              "      <td>26</td>\n",
              "      <td>Ashmore</td>\n",
              "      <td>QLD</td>\n",
              "      <td>2018-08-01T01:01:15.000+0000</td>\n",
              "      <td>16.25</td>\n",
              "      <td>a623070bfead4541a6b0fff8a09e706c</td>\n",
              "      <td>Australia</td>\n",
              "      <td>CUS-2487424745</td>\n",
              "      <td>153.38 -27.99</td>\n",
              "      <td>debit</td>\n",
              "    </tr>\n",
              "    <tr>\n",
              "      <th>1</th>\n",
              "      <td>authorized</td>\n",
              "      <td>0.0</td>\n",
              "      <td>NaN</td>\n",
              "      <td>ACC-1598451071</td>\n",
              "      <td>AUD</td>\n",
              "      <td>153.41 -27.95</td>\n",
              "      <td>SALES-POS</td>\n",
              "      <td>830a451c-316e-4a6a-bf25-e37caedca49e</td>\n",
              "      <td>NaN</td>\n",
              "      <td>Diana</td>\n",
              "      <td>21.20</td>\n",
              "      <td>2018-08-01</td>\n",
              "      <td>F</td>\n",
              "      <td>26</td>\n",
              "      <td>Sydney</td>\n",
              "      <td>NSW</td>\n",
              "      <td>2018-08-01T01:13:45.000+0000</td>\n",
              "      <td>14.19</td>\n",
              "      <td>13270a2a902145da9db4c951e04b51b9</td>\n",
              "      <td>Australia</td>\n",
              "      <td>CUS-2487424745</td>\n",
              "      <td>151.21 -33.87</td>\n",
              "      <td>debit</td>\n",
              "    </tr>\n",
              "    <tr>\n",
              "      <th>2</th>\n",
              "      <td>authorized</td>\n",
              "      <td>1.0</td>\n",
              "      <td>NaN</td>\n",
              "      <td>ACC-1222300524</td>\n",
              "      <td>AUD</td>\n",
              "      <td>151.23 -33.94</td>\n",
              "      <td>POS</td>\n",
              "      <td>835c231d-8cdf-4e96-859d-e9d571760cf0</td>\n",
              "      <td>NaN</td>\n",
              "      <td>Michael</td>\n",
              "      <td>5.71</td>\n",
              "      <td>2018-08-01</td>\n",
              "      <td>M</td>\n",
              "      <td>38</td>\n",
              "      <td>Sydney</td>\n",
              "      <td>NSW</td>\n",
              "      <td>2018-08-01T01:26:15.000+0000</td>\n",
              "      <td>6.42</td>\n",
              "      <td>feb79e7ecd7048a5a36ec889d1a94270</td>\n",
              "      <td>Australia</td>\n",
              "      <td>CUS-2142601169</td>\n",
              "      <td>151.21 -33.87</td>\n",
              "      <td>debit</td>\n",
              "    </tr>\n",
              "    <tr>\n",
              "      <th>3</th>\n",
              "      <td>authorized</td>\n",
              "      <td>1.0</td>\n",
              "      <td>NaN</td>\n",
              "      <td>ACC-1037050564</td>\n",
              "      <td>AUD</td>\n",
              "      <td>153.10 -27.66</td>\n",
              "      <td>SALES-POS</td>\n",
              "      <td>48514682-c78a-4a88-b0da-2d6302e64673</td>\n",
              "      <td>NaN</td>\n",
              "      <td>Rhonda</td>\n",
              "      <td>2117.22</td>\n",
              "      <td>2018-08-01</td>\n",
              "      <td>F</td>\n",
              "      <td>40</td>\n",
              "      <td>Buderim</td>\n",
              "      <td>QLD</td>\n",
              "      <td>2018-08-01T01:38:45.000+0000</td>\n",
              "      <td>40.90</td>\n",
              "      <td>2698170da3704fd981b15e64a006079e</td>\n",
              "      <td>Australia</td>\n",
              "      <td>CUS-1614226872</td>\n",
              "      <td>153.05 -26.68</td>\n",
              "      <td>debit</td>\n",
              "    </tr>\n",
              "    <tr>\n",
              "      <th>4</th>\n",
              "      <td>authorized</td>\n",
              "      <td>1.0</td>\n",
              "      <td>NaN</td>\n",
              "      <td>ACC-1598451071</td>\n",
              "      <td>AUD</td>\n",
              "      <td>153.41 -27.95</td>\n",
              "      <td>SALES-POS</td>\n",
              "      <td>b4e02c10-0852-4273-b8fd-7b3395e32eb0</td>\n",
              "      <td>NaN</td>\n",
              "      <td>Diana</td>\n",
              "      <td>17.95</td>\n",
              "      <td>2018-08-01</td>\n",
              "      <td>F</td>\n",
              "      <td>26</td>\n",
              "      <td>Mermaid Beach</td>\n",
              "      <td>QLD</td>\n",
              "      <td>2018-08-01T01:51:15.000+0000</td>\n",
              "      <td>3.25</td>\n",
              "      <td>329adf79878c4cf0aeb4188b4691c266</td>\n",
              "      <td>Australia</td>\n",
              "      <td>CUS-2487424745</td>\n",
              "      <td>153.44 -28.06</td>\n",
              "      <td>debit</td>\n",
              "    </tr>\n",
              "    <tr>\n",
              "      <th>5</th>\n",
              "      <td>posted</td>\n",
              "      <td>NaN</td>\n",
              "      <td>NaN</td>\n",
              "      <td>ACC-1608363396</td>\n",
              "      <td>AUD</td>\n",
              "      <td>151.22 -33.87</td>\n",
              "      <td>PAYMENT</td>\n",
              "      <td>NaN</td>\n",
              "      <td>NaN</td>\n",
              "      <td>Robert</td>\n",
              "      <td>1705.43</td>\n",
              "      <td>2018-08-01</td>\n",
              "      <td>M</td>\n",
              "      <td>20</td>\n",
              "      <td>NaN</td>\n",
              "      <td>NaN</td>\n",
              "      <td>2018-08-01T02:00:00.000+0000</td>\n",
              "      <td>163.00</td>\n",
              "      <td>1005b48a6eda4ffd85e9b649dc9467d3</td>\n",
              "      <td>Australia</td>\n",
              "      <td>CUS-2688605418</td>\n",
              "      <td>NaN</td>\n",
              "      <td>debit</td>\n",
              "    </tr>\n",
              "    <tr>\n",
              "      <th>6</th>\n",
              "      <td>authorized</td>\n",
              "      <td>1.0</td>\n",
              "      <td>NaN</td>\n",
              "      <td>ACC-2776252858</td>\n",
              "      <td>AUD</td>\n",
              "      <td>144.95 -37.76</td>\n",
              "      <td>SALES-POS</td>\n",
              "      <td>3aa18033-a0a9-4190-a117-b7caaf4d07e3</td>\n",
              "      <td>NaN</td>\n",
              "      <td>Kristin</td>\n",
              "      <td>1248.36</td>\n",
              "      <td>2018-08-01</td>\n",
              "      <td>F</td>\n",
              "      <td>43</td>\n",
              "      <td>Kalkallo</td>\n",
              "      <td>VIC</td>\n",
              "      <td>2018-08-01T02:23:04.000+0000</td>\n",
              "      <td>61.06</td>\n",
              "      <td>b79ca208099c4c28aa5dae966096d842</td>\n",
              "      <td>Australia</td>\n",
              "      <td>CUS-4123612273</td>\n",
              "      <td>144.95 -37.53</td>\n",
              "      <td>debit</td>\n",
              "    </tr>\n",
              "    <tr>\n",
              "      <th>7</th>\n",
              "      <td>authorized</td>\n",
              "      <td>1.0</td>\n",
              "      <td>NaN</td>\n",
              "      <td>ACC-2776252858</td>\n",
              "      <td>AUD</td>\n",
              "      <td>144.95 -37.76</td>\n",
              "      <td>POS</td>\n",
              "      <td>ee58145d-26e8-4b01-9cd9-62378014f21d</td>\n",
              "      <td>NaN</td>\n",
              "      <td>Kristin</td>\n",
              "      <td>1232.75</td>\n",
              "      <td>2018-08-01</td>\n",
              "      <td>F</td>\n",
              "      <td>43</td>\n",
              "      <td>Melbourne</td>\n",
              "      <td>VIC</td>\n",
              "      <td>2018-08-01T04:11:25.000+0000</td>\n",
              "      <td>15.61</td>\n",
              "      <td>e1c4a50d6a0549cbb3710a62a2fa00d5</td>\n",
              "      <td>Australia</td>\n",
              "      <td>CUS-4123612273</td>\n",
              "      <td>144.96 -37.81</td>\n",
              "      <td>debit</td>\n",
              "    </tr>\n",
              "    <tr>\n",
              "      <th>8</th>\n",
              "      <td>authorized</td>\n",
              "      <td>1.0</td>\n",
              "      <td>NaN</td>\n",
              "      <td>ACC-182446574</td>\n",
              "      <td>AUD</td>\n",
              "      <td>116.06 -32.00</td>\n",
              "      <td>POS</td>\n",
              "      <td>cfbf535e-caa8-499f-9d41-bbdc2b836d85</td>\n",
              "      <td>NaN</td>\n",
              "      <td>Tonya</td>\n",
              "      <td>213.16</td>\n",
              "      <td>2018-08-01</td>\n",
              "      <td>F</td>\n",
              "      <td>27</td>\n",
              "      <td>Yokine</td>\n",
              "      <td>WA</td>\n",
              "      <td>2018-08-01T04:40:00.000+0000</td>\n",
              "      <td>19.25</td>\n",
              "      <td>799e39eb2c1b411185424b0f2cd18bda</td>\n",
              "      <td>Australia</td>\n",
              "      <td>CUS-3026014945</td>\n",
              "      <td>115.85 -31.9</td>\n",
              "      <td>debit</td>\n",
              "    </tr>\n",
              "    <tr>\n",
              "      <th>9</th>\n",
              "      <td>posted</td>\n",
              "      <td>NaN</td>\n",
              "      <td>NaN</td>\n",
              "      <td>ACC-602667573</td>\n",
              "      <td>AUD</td>\n",
              "      <td>151.23 -33.96</td>\n",
              "      <td>INTER BANK</td>\n",
              "      <td>NaN</td>\n",
              "      <td>NaN</td>\n",
              "      <td>Michael</td>\n",
              "      <td>466.58</td>\n",
              "      <td>2018-08-01</td>\n",
              "      <td>M</td>\n",
              "      <td>40</td>\n",
              "      <td>NaN</td>\n",
              "      <td>NaN</td>\n",
              "      <td>2018-08-01T06:00:00.000+0000</td>\n",
              "      <td>21.00</td>\n",
              "      <td>798a77869014441b840a7a8a23408332</td>\n",
              "      <td>Australia</td>\n",
              "      <td>CUS-2031327464</td>\n",
              "      <td>NaN</td>\n",
              "      <td>debit</td>\n",
              "    </tr>\n",
              "  </tbody>\n",
              "</table>\n",
              "</div>"
            ],
            "text/plain": [
              "       status  card_present_flag  ... merchant_long_lat movement\n",
              "0  authorized                1.0  ...     153.38 -27.99    debit\n",
              "1  authorized                0.0  ...     151.21 -33.87    debit\n",
              "2  authorized                1.0  ...     151.21 -33.87    debit\n",
              "3  authorized                1.0  ...     153.05 -26.68    debit\n",
              "4  authorized                1.0  ...     153.44 -28.06    debit\n",
              "5      posted                NaN  ...               NaN    debit\n",
              "6  authorized                1.0  ...     144.95 -37.53    debit\n",
              "7  authorized                1.0  ...     144.96 -37.81    debit\n",
              "8  authorized                1.0  ...      115.85 -31.9    debit\n",
              "9      posted                NaN  ...               NaN    debit\n",
              "\n",
              "[10 rows x 23 columns]"
            ]
          },
          "metadata": {},
          "execution_count": 68
        }
      ]
    },
    {
      "cell_type": "code",
      "metadata": {
        "colab": {
          "base_uri": "https://localhost:8080/"
        },
        "id": "-pgDHfSfH550",
        "outputId": "1eb0a139-7b6b-4a5d-bad9-f84170f78ce0"
      },
      "source": [
        "null_rows.info()"
      ],
      "execution_count": null,
      "outputs": [
        {
          "output_type": "stream",
          "name": "stdout",
          "text": [
            "<class 'pandas.core.frame.DataFrame'>\n",
            "Int64Index: 12043 entries, 0 to 12042\n",
            "Data columns (total 23 columns):\n",
            " #   Column             Non-Null Count  Dtype         \n",
            "---  ------             --------------  -----         \n",
            " 0   status             12043 non-null  object        \n",
            " 1   card_present_flag  7717 non-null   float64       \n",
            " 2   bpay_biller_code   885 non-null    object        \n",
            " 3   account            12043 non-null  object        \n",
            " 4   currency           12043 non-null  object        \n",
            " 5   long_lat           12043 non-null  object        \n",
            " 6   txn_description    12043 non-null  object        \n",
            " 7   merchant_id        7717 non-null   object        \n",
            " 8   merchant_code      883 non-null    float64       \n",
            " 9   first_name         12043 non-null  object        \n",
            " 10  balance            12043 non-null  float64       \n",
            " 11  date               12043 non-null  datetime64[ns]\n",
            " 12  gender             12043 non-null  object        \n",
            " 13  age                12043 non-null  int64         \n",
            " 14  merchant_suburb    7717 non-null   object        \n",
            " 15  merchant_state     7717 non-null   object        \n",
            " 16  extraction         12043 non-null  object        \n",
            " 17  amount             12043 non-null  float64       \n",
            " 18  transaction_id     12043 non-null  object        \n",
            " 19  country            12043 non-null  object        \n",
            " 20  customer_id        12043 non-null  object        \n",
            " 21  merchant_long_lat  7717 non-null   object        \n",
            " 22  movement           12043 non-null  object        \n",
            "dtypes: datetime64[ns](1), float64(4), int64(1), object(17)\n",
            "memory usage: 2.2+ MB\n"
          ]
        }
      ]
    },
    {
      "cell_type": "markdown",
      "metadata": {
        "id": "l0RuEdaHPQSH"
      },
      "source": [
        "### **2.3. Missing values**"
      ]
    },
    {
      "cell_type": "code",
      "metadata": {
        "colab": {
          "base_uri": "https://localhost:8080/",
          "height": 265
        },
        "id": "GobwozyYPVHn",
        "outputId": "099d6220-326c-4ce3-a3d4-2c2be88e1912"
      },
      "source": [
        "missing = data.isnull().sum()\n",
        "missing = missing[missing > 0]\n",
        "missing_percentage = round(missing / len(data), 3) * 100\n",
        "pd.DataFrame({\"Number of missing values\": missing, \"Percentage\": missing_percentage}).sort_values(by = \"Percentage\", ascending = False)"
      ],
      "execution_count": 75,
      "outputs": [
        {
          "output_type": "execute_result",
          "data": {
            "text/html": [
              "<div>\n",
              "<style scoped>\n",
              "    .dataframe tbody tr th:only-of-type {\n",
              "        vertical-align: middle;\n",
              "    }\n",
              "\n",
              "    .dataframe tbody tr th {\n",
              "        vertical-align: top;\n",
              "    }\n",
              "\n",
              "    .dataframe thead th {\n",
              "        text-align: right;\n",
              "    }\n",
              "</style>\n",
              "<table border=\"1\" class=\"dataframe\">\n",
              "  <thead>\n",
              "    <tr style=\"text-align: right;\">\n",
              "      <th></th>\n",
              "      <th>Number of missing values</th>\n",
              "      <th>Percentage</th>\n",
              "    </tr>\n",
              "  </thead>\n",
              "  <tbody>\n",
              "    <tr>\n",
              "      <th>bpay_biller_code</th>\n",
              "      <td>11158</td>\n",
              "      <td>92.7</td>\n",
              "    </tr>\n",
              "    <tr>\n",
              "      <th>merchant_code</th>\n",
              "      <td>11160</td>\n",
              "      <td>92.7</td>\n",
              "    </tr>\n",
              "    <tr>\n",
              "      <th>card_present_flag</th>\n",
              "      <td>4326</td>\n",
              "      <td>35.9</td>\n",
              "    </tr>\n",
              "    <tr>\n",
              "      <th>merchant_id</th>\n",
              "      <td>4326</td>\n",
              "      <td>35.9</td>\n",
              "    </tr>\n",
              "    <tr>\n",
              "      <th>merchant_suburb</th>\n",
              "      <td>4326</td>\n",
              "      <td>35.9</td>\n",
              "    </tr>\n",
              "    <tr>\n",
              "      <th>merchant_state</th>\n",
              "      <td>4326</td>\n",
              "      <td>35.9</td>\n",
              "    </tr>\n",
              "    <tr>\n",
              "      <th>merchant_long_lat</th>\n",
              "      <td>4326</td>\n",
              "      <td>35.9</td>\n",
              "    </tr>\n",
              "  </tbody>\n",
              "</table>\n",
              "</div>"
            ],
            "text/plain": [
              "                   Number of missing values  Percentage\n",
              "bpay_biller_code                      11158        92.7\n",
              "merchant_code                         11160        92.7\n",
              "card_present_flag                      4326        35.9\n",
              "merchant_id                            4326        35.9\n",
              "merchant_suburb                        4326        35.9\n",
              "merchant_state                         4326        35.9\n",
              "merchant_long_lat                      4326        35.9"
            ]
          },
          "metadata": {},
          "execution_count": 75
        }
      ]
    },
    {
      "cell_type": "markdown",
      "metadata": {
        "id": "Gu7CAAteParn"
      },
      "source": [
        "Both bpay_biller_code and merchant_code columns contain a significant number of missing values. \n",
        "\n",
        "Let's examine the summary statistics of the numerical columns in the dataset."
      ]
    },
    {
      "cell_type": "markdown",
      "metadata": {
        "id": "Nve6giPlPe5u"
      },
      "source": [
        "### **2.4. Descriptive statistics**"
      ]
    },
    {
      "cell_type": "code",
      "metadata": {
        "colab": {
          "base_uri": "https://localhost:8080/",
          "height": 295
        },
        "id": "I7mcBsrqPq3O",
        "outputId": "941e6644-2b28-415b-c239-43fc0132c421"
      },
      "source": [
        "data.describe()"
      ],
      "execution_count": 76,
      "outputs": [
        {
          "output_type": "execute_result",
          "data": {
            "text/html": [
              "<div>\n",
              "<style scoped>\n",
              "    .dataframe tbody tr th:only-of-type {\n",
              "        vertical-align: middle;\n",
              "    }\n",
              "\n",
              "    .dataframe tbody tr th {\n",
              "        vertical-align: top;\n",
              "    }\n",
              "\n",
              "    .dataframe thead th {\n",
              "        text-align: right;\n",
              "    }\n",
              "</style>\n",
              "<table border=\"1\" class=\"dataframe\">\n",
              "  <thead>\n",
              "    <tr style=\"text-align: right;\">\n",
              "      <th></th>\n",
              "      <th>card_present_flag</th>\n",
              "      <th>merchant_code</th>\n",
              "      <th>balance</th>\n",
              "      <th>age</th>\n",
              "      <th>amount</th>\n",
              "    </tr>\n",
              "  </thead>\n",
              "  <tbody>\n",
              "    <tr>\n",
              "      <th>count</th>\n",
              "      <td>7717.000000</td>\n",
              "      <td>883.0</td>\n",
              "      <td>12043.000000</td>\n",
              "      <td>12043.000000</td>\n",
              "      <td>12043.000000</td>\n",
              "    </tr>\n",
              "    <tr>\n",
              "      <th>mean</th>\n",
              "      <td>0.802644</td>\n",
              "      <td>0.0</td>\n",
              "      <td>14704.195553</td>\n",
              "      <td>30.582330</td>\n",
              "      <td>187.933588</td>\n",
              "    </tr>\n",
              "    <tr>\n",
              "      <th>std</th>\n",
              "      <td>0.398029</td>\n",
              "      <td>0.0</td>\n",
              "      <td>31503.722652</td>\n",
              "      <td>10.046343</td>\n",
              "      <td>592.599934</td>\n",
              "    </tr>\n",
              "    <tr>\n",
              "      <th>min</th>\n",
              "      <td>0.000000</td>\n",
              "      <td>0.0</td>\n",
              "      <td>0.240000</td>\n",
              "      <td>18.000000</td>\n",
              "      <td>0.100000</td>\n",
              "    </tr>\n",
              "    <tr>\n",
              "      <th>25%</th>\n",
              "      <td>1.000000</td>\n",
              "      <td>0.0</td>\n",
              "      <td>3158.585000</td>\n",
              "      <td>22.000000</td>\n",
              "      <td>16.000000</td>\n",
              "    </tr>\n",
              "    <tr>\n",
              "      <th>50%</th>\n",
              "      <td>1.000000</td>\n",
              "      <td>0.0</td>\n",
              "      <td>6432.010000</td>\n",
              "      <td>28.000000</td>\n",
              "      <td>29.000000</td>\n",
              "    </tr>\n",
              "    <tr>\n",
              "      <th>75%</th>\n",
              "      <td>1.000000</td>\n",
              "      <td>0.0</td>\n",
              "      <td>12465.945000</td>\n",
              "      <td>38.000000</td>\n",
              "      <td>53.655000</td>\n",
              "    </tr>\n",
              "    <tr>\n",
              "      <th>max</th>\n",
              "      <td>1.000000</td>\n",
              "      <td>0.0</td>\n",
              "      <td>267128.520000</td>\n",
              "      <td>78.000000</td>\n",
              "      <td>8835.980000</td>\n",
              "    </tr>\n",
              "  </tbody>\n",
              "</table>\n",
              "</div>"
            ],
            "text/plain": [
              "       card_present_flag  merchant_code  ...           age        amount\n",
              "count        7717.000000          883.0  ...  12043.000000  12043.000000\n",
              "mean            0.802644            0.0  ...     30.582330    187.933588\n",
              "std             0.398029            0.0  ...     10.046343    592.599934\n",
              "min             0.000000            0.0  ...     18.000000      0.100000\n",
              "25%             1.000000            0.0  ...     22.000000     16.000000\n",
              "50%             1.000000            0.0  ...     28.000000     29.000000\n",
              "75%             1.000000            0.0  ...     38.000000     53.655000\n",
              "max             1.000000            0.0  ...     78.000000   8835.980000\n",
              "\n",
              "[8 rows x 5 columns]"
            ]
          },
          "metadata": {},
          "execution_count": 76
        }
      ]
    },
    {
      "cell_type": "markdown",
      "metadata": {
        "id": "OEdLyk-uPyjH"
      },
      "source": [
        "\n",
        "The describe function is a good way to observe any anomalies in the numerical columns for example, we can check if the age and amount columns contain any negative values, or if a customer has an age of 150 etc. Here, I do not see any anomalies.\n",
        "\n",
        "It also provides an overview of some basic statistics for the amount column. However, we do not know the breakdown of these transaction amounts for example, what sort of transactions are they, who made them etc. We will explore this as we proceed with our further analysis.\n",
        "\n",
        "We can see see a huge spread between the maximum and minimum amount in the balance and amount columns. We will look into this further"
      ]
    },
    {
      "cell_type": "markdown",
      "metadata": {
        "id": "SM1YEDNEQKfW"
      },
      "source": [
        "# **3. Exploratory data analysis (EDA)**\n",
        "\n",
        "### **3.1. Categorical variables**\n",
        "\n",
        "Here, we will skip the following columns as they won't provide us with much information:\n",
        "\n",
        "*   bpay_biller_code\n",
        "*   account\n",
        "*   merchant_id\n",
        "*   merchant_code\n",
        "*   first_name\n",
        "*   transaction_id\n",
        "*   customer_id\n",
        "\n",
        "\n",
        "\n",
        "**3.1.1. Status**"
      ]
    },
    {
      "cell_type": "code",
      "metadata": {
        "colab": {
          "base_uri": "https://localhost:8080/"
        },
        "id": "exv21ae8QXD3",
        "outputId": "e0ed1c09-38bf-4d5f-bc42-5d3d03596df1"
      },
      "source": [
        "data.status.value_counts(dropna = False)"
      ],
      "execution_count": 77,
      "outputs": [
        {
          "output_type": "execute_result",
          "data": {
            "text/plain": [
              "authorized    7717\n",
              "posted        4326\n",
              "Name: status, dtype: int64"
            ]
          },
          "metadata": {},
          "execution_count": 77
        }
      ]
    },
    {
      "cell_type": "markdown",
      "metadata": {
        "id": "US8JBfnVRVzP"
      },
      "source": [
        "Status of of the individual transactions: authorised means transaction has already been approved, posted means still in the process.\n",
        "\n",
        "\n",
        "**3.1.2. Card present flag**"
      ]
    },
    {
      "cell_type": "code",
      "metadata": {
        "colab": {
          "base_uri": "https://localhost:8080/"
        },
        "id": "u8cXkwtSReZH",
        "outputId": "66cbeb47-cf7b-482c-adc1-f5a20695e9b3"
      },
      "source": [
        "data.card_present_flag.value_counts(dropna = False)"
      ],
      "execution_count": 78,
      "outputs": [
        {
          "output_type": "execute_result",
          "data": {
            "text/plain": [
              "1.0    6194\n",
              "NaN    4326\n",
              "0.0    1523\n",
              "Name: card_present_flag, dtype: int64"
            ]
          },
          "metadata": {},
          "execution_count": 78
        }
      ]
    },
    {
      "cell_type": "markdown",
      "metadata": {
        "id": "KrMwGmhKRvyp"
      },
      "source": [
        "Card-not-present (CNP) transaction occurs when neither the cardholder nor the credit card is physically present at the time of the transaction. It's most common for orders that happen remotely over the phone, internet or mail.\n",
        "\n",
        "**3.1.3. Currency of transaction**"
      ]
    },
    {
      "cell_type": "code",
      "metadata": {
        "colab": {
          "base_uri": "https://localhost:8080/"
        },
        "id": "eI_tPdydRi8H",
        "outputId": "e936993c-8417-4eaf-b6ef-98fbd8a05106"
      },
      "source": [
        "data.currency.value_counts(dropna = False)"
      ],
      "execution_count": 80,
      "outputs": [
        {
          "output_type": "execute_result",
          "data": {
            "text/plain": [
              "AUD    12043\n",
              "Name: currency, dtype: int64"
            ]
          },
          "metadata": {},
          "execution_count": 80
        }
      ]
    },
    {
      "cell_type": "markdown",
      "metadata": {
        "id": "_GQ8xduoR2SF"
      },
      "source": [
        "All transactions are made in AUD. Can potentially drop this column because unnecessary since it does not provide us with any additional information.\n",
        "\n",
        "**3.1.4. Longitude and latitude**"
      ]
    },
    {
      "cell_type": "code",
      "metadata": {
        "colab": {
          "base_uri": "https://localhost:8080/"
        },
        "id": "ibMoTO7MRktw",
        "outputId": "9a0a1914-a12a-4d73-c12c-cfb7c21c2886"
      },
      "source": [
        "data.long_lat.head()"
      ],
      "execution_count": 79,
      "outputs": [
        {
          "output_type": "execute_result",
          "data": {
            "text/plain": [
              "0    153.41 -27.95\n",
              "1    153.41 -27.95\n",
              "2    151.23 -33.94\n",
              "3    153.10 -27.66\n",
              "4    153.41 -27.95\n",
              "Name: long_lat, dtype: object"
            ]
          },
          "metadata": {},
          "execution_count": 79
        }
      ]
    },
    {
      "cell_type": "markdown",
      "metadata": {
        "id": "UTQCXoZrRoPM"
      },
      "source": [
        "These are the coordinates where the transactions were made.\n",
        "\n",
        "**3.1.5. Types of transactions**"
      ]
    },
    {
      "cell_type": "code",
      "metadata": {
        "colab": {
          "base_uri": "https://localhost:8080/"
        },
        "id": "dr8fs-QBSIz1",
        "outputId": "0aaabcf4-f842-4b5a-84a1-a8a89fbcf3f7"
      },
      "source": [
        "data.txn_description.value_counts(dropna = False)"
      ],
      "execution_count": 81,
      "outputs": [
        {
          "output_type": "execute_result",
          "data": {
            "text/plain": [
              "SALES-POS     3934\n",
              "POS           3783\n",
              "PAYMENT       2600\n",
              "PAY/SALARY     883\n",
              "INTER BANK     742\n",
              "PHONE BANK     101\n",
              "Name: txn_description, dtype: int64"
            ]
          },
          "metadata": {},
          "execution_count": 81
        }
      ]
    },
    {
      "cell_type": "code",
      "metadata": {
        "colab": {
          "base_uri": "https://localhost:8080/",
          "height": 372
        },
        "id": "Rsq4p4DpSKYc",
        "outputId": "301e876a-cd7c-4ba8-9d34-2fbe7c635cfe"
      },
      "source": [
        "\n",
        "plt.figure(figsize = (10, 5))\n",
        "sns.countplot(data.txn_description)\n",
        "plt.title(\"Number of transactions by category\")"
      ],
      "execution_count": 82,
      "outputs": [
        {
          "output_type": "execute_result",
          "data": {
            "text/plain": [
              "Text(0.5, 1.0, 'Number of transactions by category')"
            ]
          },
          "metadata": {},
          "execution_count": 82
        },
        {
          "output_type": "display_data",
          "data": {
            "image/png": "[encoded data removed]",
            "text/plain": [
              "<Figure size 720x360 with 1 Axes>"
            ]
          },
          "metadata": {}
        }
      ]
    },
    {
      "cell_type": "markdown",
      "metadata": {
        "id": "F1hfwjfUSPI0"
      },
      "source": [
        "These are the descriptions for each transaction. Transactions mostly consist of sales payment.\n",
        "\n",
        "This might explain the missing values in the merchant columns as not all transactions are purchases of goods and services from merchants. We can validate this later."
      ]
    },
    {
      "cell_type": "code",
      "metadata": {
        "colab": {
          "base_uri": "https://localhost:8080/",
          "height": 234
        },
        "id": "PepQ4zUhSVfl",
        "outputId": "fb229f6a-4cad-459b-9c2d-d6395568678d"
      },
      "source": [
        "data[[\"txn_description\", \"amount\"]].groupby(\"txn_description\", as_index = False).mean().sort_values(by = \"amount\", ascending = False)"
      ],
      "execution_count": 83,
      "outputs": [
        {
          "output_type": "execute_result",
          "data": {
            "text/html": [
              "<div>\n",
              "<style scoped>\n",
              "    .dataframe tbody tr th:only-of-type {\n",
              "        vertical-align: middle;\n",
              "    }\n",
              "\n",
              "    .dataframe tbody tr th {\n",
              "        vertical-align: top;\n",
              "    }\n",
              "\n",
              "    .dataframe thead th {\n",
              "        text-align: right;\n",
              "    }\n",
              "</style>\n",
              "<table border=\"1\" class=\"dataframe\">\n",
              "  <thead>\n",
              "    <tr style=\"text-align: right;\">\n",
              "      <th></th>\n",
              "      <th>txn_description</th>\n",
              "      <th>amount</th>\n",
              "    </tr>\n",
              "  </thead>\n",
              "  <tbody>\n",
              "    <tr>\n",
              "      <th>1</th>\n",
              "      <td>PAY/SALARY</td>\n",
              "      <td>1898.728029</td>\n",
              "    </tr>\n",
              "    <tr>\n",
              "      <th>3</th>\n",
              "      <td>PHONE BANK</td>\n",
              "      <td>106.099010</td>\n",
              "    </tr>\n",
              "    <tr>\n",
              "      <th>0</th>\n",
              "      <td>INTER BANK</td>\n",
              "      <td>86.699461</td>\n",
              "    </tr>\n",
              "    <tr>\n",
              "      <th>2</th>\n",
              "      <td>PAYMENT</td>\n",
              "      <td>77.613077</td>\n",
              "    </tr>\n",
              "    <tr>\n",
              "      <th>4</th>\n",
              "      <td>POS</td>\n",
              "      <td>40.407412</td>\n",
              "    </tr>\n",
              "    <tr>\n",
              "      <th>5</th>\n",
              "      <td>SALES-POS</td>\n",
              "      <td>39.909789</td>\n",
              "    </tr>\n",
              "  </tbody>\n",
              "</table>\n",
              "</div>"
            ],
            "text/plain": [
              "  txn_description       amount\n",
              "1      PAY/SALARY  1898.728029\n",
              "3      PHONE BANK   106.099010\n",
              "0      INTER BANK    86.699461\n",
              "2         PAYMENT    77.613077\n",
              "4             POS    40.407412\n",
              "5       SALES-POS    39.909789"
            ]
          },
          "metadata": {},
          "execution_count": 83
        }
      ]
    },
    {
      "cell_type": "code",
      "metadata": {
        "colab": {
          "base_uri": "https://localhost:8080/",
          "height": 372
        },
        "id": "A-EhfajiSXV8",
        "outputId": "a187664c-a7f7-464c-d03f-25c71b9f388e"
      },
      "source": [
        "plt.figure(figsize = (8, 5))\n",
        "sns.barplot(x = \"txn_description\", y = \"amount\", data = data)\n",
        "plt.title(\"Average transaction volume by category\")"
      ],
      "execution_count": 84,
      "outputs": [
        {
          "output_type": "execute_result",
          "data": {
            "text/plain": [
              "Text(0.5, 1.0, 'Average transaction volume by category')"
            ]
          },
          "metadata": {},
          "execution_count": 84
        },
        {
          "output_type": "display_data",
          "data": {
            "image/png": "[encoded data removed]",
            "text/plain": [
              "<Figure size 576x360 with 1 Axes>"
            ]
          },
          "metadata": {}
        }
      ]
    },
    {
      "cell_type": "markdown",
      "metadata": {
        "id": "yj1RvcN9ScBQ"
      },
      "source": [
        "\n",
        "Pay/salary has the largest average transaction volume.\n",
        "\n",
        "**3.1.6. Gender**"
      ]
    },
    {
      "cell_type": "code",
      "metadata": {
        "colab": {
          "base_uri": "https://localhost:8080/"
        },
        "id": "SpWVMRt9SZGs",
        "outputId": "d9fb71bf-9216-4f72-9504-e80f8e3326b5"
      },
      "source": [
        "data.gender.value_counts(dropna = False)"
      ],
      "execution_count": 85,
      "outputs": [
        {
          "output_type": "execute_result",
          "data": {
            "text/plain": [
              "M    6285\n",
              "F    5758\n",
              "Name: gender, dtype: int64"
            ]
          },
          "metadata": {},
          "execution_count": 85
        }
      ]
    },
    {
      "cell_type": "code",
      "metadata": {
        "colab": {
          "base_uri": "https://localhost:8080/",
          "height": 372
        },
        "id": "jG8pBesNSgic",
        "outputId": "c86e8601-fecd-4c89-db7b-80f2cef6b859"
      },
      "source": [
        "plt.figure(figsize = (5, 5))\n",
        "sns.countplot(data.gender)\n",
        "plt.title(\"Number of transactions by gender\")"
      ],
      "execution_count": 86,
      "outputs": [
        {
          "output_type": "execute_result",
          "data": {
            "text/plain": [
              "Text(0.5, 1.0, 'Number of transactions by gender')"
            ]
          },
          "metadata": {},
          "execution_count": 86
        },
        {
          "output_type": "display_data",
          "data": {
            "image/png": "[encoded data removed]",
            "text/plain": [
              "<Figure size 360x360 with 1 Axes>"
            ]
          },
          "metadata": {}
        }
      ]
    },
    {
      "cell_type": "markdown",
      "metadata": {
        "id": "mly0bNQ0Sqmb"
      },
      "source": [
        "There are more male customer transactions than there are female."
      ]
    },
    {
      "cell_type": "code",
      "metadata": {
        "colab": {
          "base_uri": "https://localhost:8080/",
          "height": 110
        },
        "id": "HYPbW5DOSiVk",
        "outputId": "9a90cc73-bfa9-49ea-a5f7-5e094fb6513e"
      },
      "source": [
        "data[[\"gender\", \"amount\"]].groupby(\"gender\", as_index = False).mean().sort_values(by = \"amount\", ascending = False)"
      ],
      "execution_count": 88,
      "outputs": [
        {
          "output_type": "execute_result",
          "data": {
            "text/html": [
              "<div>\n",
              "<style scoped>\n",
              "    .dataframe tbody tr th:only-of-type {\n",
              "        vertical-align: middle;\n",
              "    }\n",
              "\n",
              "    .dataframe tbody tr th {\n",
              "        vertical-align: top;\n",
              "    }\n",
              "\n",
              "    .dataframe thead th {\n",
              "        text-align: right;\n",
              "    }\n",
              "</style>\n",
              "<table border=\"1\" class=\"dataframe\">\n",
              "  <thead>\n",
              "    <tr style=\"text-align: right;\">\n",
              "      <th></th>\n",
              "      <th>gender</th>\n",
              "      <th>amount</th>\n",
              "    </tr>\n",
              "  </thead>\n",
              "  <tbody>\n",
              "    <tr>\n",
              "      <th>1</th>\n",
              "      <td>M</td>\n",
              "      <td>205.721809</td>\n",
              "    </tr>\n",
              "    <tr>\n",
              "      <th>0</th>\n",
              "      <td>F</td>\n",
              "      <td>168.517303</td>\n",
              "    </tr>\n",
              "  </tbody>\n",
              "</table>\n",
              "</div>"
            ],
            "text/plain": [
              "  gender      amount\n",
              "1      M  205.721809\n",
              "0      F  168.517303"
            ]
          },
          "metadata": {},
          "execution_count": 88
        }
      ]
    },
    {
      "cell_type": "code",
      "metadata": {
        "colab": {
          "base_uri": "https://localhost:8080/",
          "height": 372
        },
        "id": "g5op2tZySkWE",
        "outputId": "ef7dd336-88b1-4227-8bf1-1e9d8e8db2c1"
      },
      "source": [
        "plt.figure(figsize = (5, 5))\n",
        "sns.barplot(x = \"gender\", y = \"amount\", data = data)\n",
        "plt.title(\"Average transaction volume by gender\")"
      ],
      "execution_count": 89,
      "outputs": [
        {
          "output_type": "execute_result",
          "data": {
            "text/plain": [
              "Text(0.5, 1.0, 'Average transaction volume by gender')"
            ]
          },
          "metadata": {},
          "execution_count": 89
        },
        {
          "output_type": "display_data",
          "data": {
            "image/png": "[encoded data removed]",
            "text/plain": [
              "<Figure size 360x360 with 1 Axes>"
            ]
          },
          "metadata": {}
        }
      ]
    },
    {
      "cell_type": "markdown",
      "metadata": {
        "id": "yo0HxxafStmc"
      },
      "source": [
        "Male has a higher average transaction volume.\n",
        "\n",
        "**3.1.7. Merchant suburb** "
      ]
    },
    {
      "cell_type": "code",
      "metadata": {
        "colab": {
          "base_uri": "https://localhost:8080/"
        },
        "id": "k8d_-Vl4TDYM",
        "outputId": "eba20a9c-c634-4c1f-9803-87b4c34b50b5"
      },
      "source": [
        "data.merchant_suburb.value_counts(dropna = False)"
      ],
      "execution_count": 91,
      "outputs": [
        {
          "output_type": "execute_result",
          "data": {
            "text/plain": [
              "NaN              4326\n",
              "Melbourne         255\n",
              "Sydney            233\n",
              "Southport          82\n",
              "Brisbane City      79\n",
              "                 ... \n",
              "Crookwell           1\n",
              "Mount Colah         1\n",
              "Henley Beach        1\n",
              "Derrimut            1\n",
              "Kalkallo            1\n",
              "Name: merchant_suburb, Length: 1610, dtype: int64"
            ]
          },
          "metadata": {},
          "execution_count": 91
        }
      ]
    },
    {
      "cell_type": "markdown",
      "metadata": {
        "id": "WpM7OiqfTHij"
      },
      "source": [
        "These are the suburbs where the transactions were made.\n",
        "\n",
        "**3.1.8. Merchant state**"
      ]
    },
    {
      "cell_type": "code",
      "metadata": {
        "colab": {
          "base_uri": "https://localhost:8080/"
        },
        "id": "cyzLuSMlTQwi",
        "outputId": "6cc0eda7-5699-47c2-d357-e0d7e55ee42e"
      },
      "source": [
        "data.merchant_state.value_counts(dropna = False)"
      ],
      "execution_count": 90,
      "outputs": [
        {
          "output_type": "execute_result",
          "data": {
            "text/plain": [
              "NaN    4326\n",
              "NSW    2169\n",
              "VIC    2131\n",
              "QLD    1556\n",
              "WA     1100\n",
              "SA      415\n",
              "NT      205\n",
              "ACT      73\n",
              "TAS      68\n",
              "Name: merchant_state, dtype: int64"
            ]
          },
          "metadata": {},
          "execution_count": 90
        }
      ]
    },
    {
      "cell_type": "code",
      "metadata": {
        "colab": {
          "base_uri": "https://localhost:8080/",
          "height": 414
        },
        "id": "YfRCfM3xTW8a",
        "outputId": "b67b405e-da9f-482a-aaf7-b01ff6c2302c"
      },
      "source": [
        "plt.figure(figsize = (12, 7))\n",
        "sns.countplot(data.merchant_state)\n",
        "plt.title(\"Number of transactions by state\")"
      ],
      "execution_count": 92,
      "outputs": [
        {
          "output_type": "execute_result",
          "data": {
            "text/plain": [
              "Text(0.5, 1.0, 'Number of transactions by state')"
            ]
          },
          "metadata": {},
          "execution_count": 92
        },
        {
          "output_type": "display_data",
          "data": {
            "image/png": "[encoded data removed]",
            "text/plain": [
              "<Figure size 864x504 with 1 Axes>"
            ]
          },
          "metadata": {}
        }
      ]
    },
    {
      "cell_type": "markdown",
      "metadata": {
        "id": "FSvV4EsrTd56"
      },
      "source": [
        "Similar to merchant suburb, these are the states where the transactions were made.\n",
        "\n",
        "NSW and VIC are the top 2 states in number of transactions."
      ]
    },
    {
      "cell_type": "code",
      "metadata": {
        "colab": {
          "base_uri": "https://localhost:8080/",
          "height": 295
        },
        "id": "ZaBGpldMTiEB",
        "outputId": "5c041450-f96a-41c2-c89b-edb0c53e780e"
      },
      "source": [
        "data[[\"merchant_state\", \"amount\"]].groupby(\"merchant_state\", as_index = False).mean().sort_values(by = \"amount\", ascending = False)"
      ],
      "execution_count": 93,
      "outputs": [
        {
          "output_type": "execute_result",
          "data": {
            "text/html": [
              "<div>\n",
              "<style scoped>\n",
              "    .dataframe tbody tr th:only-of-type {\n",
              "        vertical-align: middle;\n",
              "    }\n",
              "\n",
              "    .dataframe tbody tr th {\n",
              "        vertical-align: top;\n",
              "    }\n",
              "\n",
              "    .dataframe thead th {\n",
              "        text-align: right;\n",
              "    }\n",
              "</style>\n",
              "<table border=\"1\" class=\"dataframe\">\n",
              "  <thead>\n",
              "    <tr style=\"text-align: right;\">\n",
              "      <th></th>\n",
              "      <th>merchant_state</th>\n",
              "      <th>amount</th>\n",
              "    </tr>\n",
              "  </thead>\n",
              "  <tbody>\n",
              "    <tr>\n",
              "      <th>0</th>\n",
              "      <td>ACT</td>\n",
              "      <td>66.803836</td>\n",
              "    </tr>\n",
              "    <tr>\n",
              "      <th>1</th>\n",
              "      <td>NSW</td>\n",
              "      <td>47.036316</td>\n",
              "    </tr>\n",
              "    <tr>\n",
              "      <th>2</th>\n",
              "      <td>NT</td>\n",
              "      <td>44.726293</td>\n",
              "    </tr>\n",
              "    <tr>\n",
              "      <th>6</th>\n",
              "      <td>VIC</td>\n",
              "      <td>41.099953</td>\n",
              "    </tr>\n",
              "    <tr>\n",
              "      <th>4</th>\n",
              "      <td>SA</td>\n",
              "      <td>40.425470</td>\n",
              "    </tr>\n",
              "    <tr>\n",
              "      <th>3</th>\n",
              "      <td>QLD</td>\n",
              "      <td>34.372397</td>\n",
              "    </tr>\n",
              "    <tr>\n",
              "      <th>7</th>\n",
              "      <td>WA</td>\n",
              "      <td>30.901873</td>\n",
              "    </tr>\n",
              "    <tr>\n",
              "      <th>5</th>\n",
              "      <td>TAS</td>\n",
              "      <td>28.866618</td>\n",
              "    </tr>\n",
              "  </tbody>\n",
              "</table>\n",
              "</div>"
            ],
            "text/plain": [
              "  merchant_state     amount\n",
              "0            ACT  66.803836\n",
              "1            NSW  47.036316\n",
              "2             NT  44.726293\n",
              "6            VIC  41.099953\n",
              "4             SA  40.425470\n",
              "3            QLD  34.372397\n",
              "7             WA  30.901873\n",
              "5            TAS  28.866618"
            ]
          },
          "metadata": {},
          "execution_count": 93
        }
      ]
    },
    {
      "cell_type": "code",
      "metadata": {
        "colab": {
          "base_uri": "https://localhost:8080/",
          "height": 418
        },
        "id": "HNAXNOY5TkE-",
        "outputId": "2c64c2a0-c494-4c10-a927-281ed0a38301"
      },
      "source": [
        "plt.figure(figsize = (12, 7))\n",
        "sns.barplot(x = \"merchant_state\", y = \"amount\", data = data)\n",
        "plt.title(\"Average transaction volume by state\")"
      ],
      "execution_count": 94,
      "outputs": [
        {
          "output_type": "execute_result",
          "data": {
            "text/plain": [
              "Text(0.5, 1.0, 'Average transaction volume by state')"
            ]
          },
          "metadata": {},
          "execution_count": 94
        },
        {
          "output_type": "display_data",
          "data": {
            "image/png": "[encoded data removed]",
            "text/plain": [
              "<Figure size 864x504 with 1 Axes>"
            ]
          },
          "metadata": {}
        }
      ]
    },
    {
      "cell_type": "markdown",
      "metadata": {
        "id": "PPLzaFLKTnyM"
      },
      "source": [
        "ACT has the highest average transaction volume but the variance is quite large.\n",
        "\n",
        "**3.1.9. Extraction**"
      ]
    },
    {
      "cell_type": "code",
      "metadata": {
        "colab": {
          "base_uri": "https://localhost:8080/"
        },
        "id": "3LeM-7TxTsur",
        "outputId": "6fb1d860-1399-4fb4-ddc5-cd0025ce7547"
      },
      "source": [
        "data.extraction.head()"
      ],
      "execution_count": 95,
      "outputs": [
        {
          "output_type": "execute_result",
          "data": {
            "text/plain": [
              "0    2018-08-01T01:01:15.000+0000\n",
              "1    2018-08-01T01:13:45.000+0000\n",
              "2    2018-08-01T01:26:15.000+0000\n",
              "3    2018-08-01T01:38:45.000+0000\n",
              "4    2018-08-01T01:51:15.000+0000\n",
              "Name: extraction, dtype: object"
            ]
          },
          "metadata": {},
          "execution_count": 95
        }
      ]
    },
    {
      "cell_type": "markdown",
      "metadata": {
        "id": "8jHLrNAHTvRz"
      },
      "source": [
        "This appears to be the timestamp for each transaction. We can cross-reference this with the date column.\n"
      ]
    },
    {
      "cell_type": "code",
      "metadata": {
        "colab": {
          "base_uri": "https://localhost:8080/",
          "height": 203
        },
        "id": "7Vt4b939TzTi",
        "outputId": "2548411a-c2bf-4139-e5b1-d724521bfb21"
      },
      "source": [
        "data[[\"date\", \"extraction\"]].head()"
      ],
      "execution_count": 96,
      "outputs": [
        {
          "output_type": "execute_result",
          "data": {
            "text/html": [
              "<div>\n",
              "<style scoped>\n",
              "    .dataframe tbody tr th:only-of-type {\n",
              "        vertical-align: middle;\n",
              "    }\n",
              "\n",
              "    .dataframe tbody tr th {\n",
              "        vertical-align: top;\n",
              "    }\n",
              "\n",
              "    .dataframe thead th {\n",
              "        text-align: right;\n",
              "    }\n",
              "</style>\n",
              "<table border=\"1\" class=\"dataframe\">\n",
              "  <thead>\n",
              "    <tr style=\"text-align: right;\">\n",
              "      <th></th>\n",
              "      <th>date</th>\n",
              "      <th>extraction</th>\n",
              "    </tr>\n",
              "  </thead>\n",
              "  <tbody>\n",
              "    <tr>\n",
              "      <th>0</th>\n",
              "      <td>2018-08-01</td>\n",
              "      <td>2018-08-01T01:01:15.000+0000</td>\n",
              "    </tr>\n",
              "    <tr>\n",
              "      <th>1</th>\n",
              "      <td>2018-08-01</td>\n",
              "      <td>2018-08-01T01:13:45.000+0000</td>\n",
              "    </tr>\n",
              "    <tr>\n",
              "      <th>2</th>\n",
              "      <td>2018-08-01</td>\n",
              "      <td>2018-08-01T01:26:15.000+0000</td>\n",
              "    </tr>\n",
              "    <tr>\n",
              "      <th>3</th>\n",
              "      <td>2018-08-01</td>\n",
              "      <td>2018-08-01T01:38:45.000+0000</td>\n",
              "    </tr>\n",
              "    <tr>\n",
              "      <th>4</th>\n",
              "      <td>2018-08-01</td>\n",
              "      <td>2018-08-01T01:51:15.000+0000</td>\n",
              "    </tr>\n",
              "  </tbody>\n",
              "</table>\n",
              "</div>"
            ],
            "text/plain": [
              "        date                    extraction\n",
              "0 2018-08-01  2018-08-01T01:01:15.000+0000\n",
              "1 2018-08-01  2018-08-01T01:13:45.000+0000\n",
              "2 2018-08-01  2018-08-01T01:26:15.000+0000\n",
              "3 2018-08-01  2018-08-01T01:38:45.000+0000\n",
              "4 2018-08-01  2018-08-01T01:51:15.000+0000"
            ]
          },
          "metadata": {},
          "execution_count": 96
        }
      ]
    },
    {
      "cell_type": "markdown",
      "metadata": {
        "id": "oizmivSlT7Nx"
      },
      "source": [
        "Since we already have an existing date column, we can potentially extract only the time component out of the extraction column.\n",
        "\n",
        "**3.1.10. Country**"
      ]
    },
    {
      "cell_type": "code",
      "metadata": {
        "colab": {
          "base_uri": "https://localhost:8080/"
        },
        "id": "zbqLNsG-UCqK",
        "outputId": "e2fadde2-e8e6-4050-e4fd-12636772807b"
      },
      "source": [
        "data.country.value_counts(dropna = False)"
      ],
      "execution_count": 97,
      "outputs": [
        {
          "output_type": "execute_result",
          "data": {
            "text/plain": [
              "Australia    12043\n",
              "Name: country, dtype: int64"
            ]
          },
          "metadata": {},
          "execution_count": 97
        }
      ]
    },
    {
      "cell_type": "markdown",
      "metadata": {
        "id": "NYv10C1sUFrD"
      },
      "source": [
        "All transactions were recorded within Australia. Therefore, can consider dropping this column since it does not provide us with any information.\n",
        "\n",
        "**3.1.11. Merchant longitude and latitude**"
      ]
    },
    {
      "cell_type": "code",
      "metadata": {
        "colab": {
          "base_uri": "https://localhost:8080/"
        },
        "id": "u1UqA266UINO",
        "outputId": "62b7ba45-c89a-4d69-bcf0-3198879a1659"
      },
      "source": [
        "data.merchant_long_lat.head()"
      ],
      "execution_count": 98,
      "outputs": [
        {
          "output_type": "execute_result",
          "data": {
            "text/plain": [
              "0    153.38 -27.99\n",
              "1    151.21 -33.87\n",
              "2    151.21 -33.87\n",
              "3    153.05 -26.68\n",
              "4    153.44 -28.06\n",
              "Name: merchant_long_lat, dtype: object"
            ]
          },
          "metadata": {},
          "execution_count": 98
        }
      ]
    },
    {
      "cell_type": "markdown",
      "metadata": {
        "id": "CYE405fkUUnS"
      },
      "source": [
        "These are the coordinates of the merchants' location.\n",
        "\n",
        "**3.1.12. Movement (debit/credit)**"
      ]
    },
    {
      "cell_type": "code",
      "metadata": {
        "colab": {
          "base_uri": "https://localhost:8080/"
        },
        "id": "WpqbZn3zUXi7",
        "outputId": "1ae26d7a-3e3a-4a94-ce74-bbcbc8764374"
      },
      "source": [
        "data.movement.value_counts(dropna = False)"
      ],
      "execution_count": 99,
      "outputs": [
        {
          "output_type": "execute_result",
          "data": {
            "text/plain": [
              "debit     11160\n",
              "credit      883\n",
              "Name: movement, dtype: int64"
            ]
          },
          "metadata": {},
          "execution_count": 99
        }
      ]
    },
    {
      "cell_type": "code",
      "metadata": {
        "colab": {
          "base_uri": "https://localhost:8080/",
          "height": 372
        },
        "id": "gyFlEY82Ualj",
        "outputId": "16a9bf65-c716-43fb-aedd-fc6770090a0e"
      },
      "source": [
        "plt.figure(figsize = (5 ,5))\n",
        "sns.countplot(data.movement)\n",
        "plt.title(\"Number of transactions by movement\")"
      ],
      "execution_count": 100,
      "outputs": [
        {
          "output_type": "execute_result",
          "data": {
            "text/plain": [
              "Text(0.5, 1.0, 'Number of transactions by movement')"
            ]
          },
          "metadata": {},
          "execution_count": 100
        },
        {
          "output_type": "display_data",
          "data": {
            "image/png": "[encoded data removed]",
            "text/plain": [
              "<Figure size 360x360 with 1 Axes>"
            ]
          },
          "metadata": {}
        }
      ]
    },
    {
      "cell_type": "markdown",
      "metadata": {
        "id": "ryreYY_gUe-i"
      },
      "source": [
        "Most transactions are overwhelmingly debit transactions."
      ]
    },
    {
      "cell_type": "code",
      "metadata": {
        "colab": {
          "base_uri": "https://localhost:8080/",
          "height": 372
        },
        "id": "cJf_KC_lUhP6",
        "outputId": "08d2b3cb-c28a-45b6-b565-7bd2a7294e97"
      },
      "source": [
        "plt.figure(figsize = (5, 5))\n",
        "sns.barplot(x = \"movement\", y = \"amount\", data = data)\n",
        "plt.title(\"Average transaction volume by movement\")"
      ],
      "execution_count": 101,
      "outputs": [
        {
          "output_type": "execute_result",
          "data": {
            "text/plain": [
              "Text(0.5, 1.0, 'Average transaction volume by movement')"
            ]
          },
          "metadata": {},
          "execution_count": 101
        },
        {
          "output_type": "display_data",
          "data": {
            "image/png": "[encoded data removed]",
            "text/plain": [
              "<Figure size 360x360 with 1 Axes>"
            ]
          },
          "metadata": {}
        }
      ]
    },
    {
      "cell_type": "markdown",
      "metadata": {
        "id": "cqkOjN93UkgD"
      },
      "source": [
        "\n",
        "However, the average transaction amount for credit transactions are much higher.\n",
        "\n",
        "### **3.2 Numerical variables**\n",
        "\n",
        "**3.2.1. Balance**"
      ]
    },
    {
      "cell_type": "code",
      "metadata": {
        "colab": {
          "base_uri": "https://localhost:8080/",
          "height": 372
        },
        "id": "Zmp53h7fUlsT",
        "outputId": "c6887717-f67f-42fa-9986-0bf8b9f6402e"
      },
      "source": [
        "plt.figure(figsize = (8, 5))\n",
        "sns.distplot(data.balance)\n",
        "plt.title(\"Balance distribution\")"
      ],
      "execution_count": 113,
      "outputs": [
        {
          "output_type": "execute_result",
          "data": {
            "text/plain": [
              "Text(0.5, 1.0, 'Balance distribution')"
            ]
          },
          "metadata": {},
          "execution_count": 113
        },
        {
          "output_type": "display_data",
          "data": {
            "image/png": "[encoded data removed]",
            "text/plain": [
              "<Figure size 576x360 with 1 Axes>"
            ]
          },
          "metadata": {}
        }
      ]
    },
    {
      "cell_type": "code",
      "metadata": {
        "colab": {
          "base_uri": "https://localhost:8080/",
          "height": 281
        },
        "id": "gfs_pX_LUpgw",
        "outputId": "2d83d278-d33c-466f-8d8a-7d62436614ca"
      },
      "source": [
        "plt.figure(figsize = (12, 4))\n",
        "sns.boxplot(data.balance)"
      ],
      "execution_count": 103,
      "outputs": [
        {
          "output_type": "execute_result",
          "data": {
            "text/plain": [
              "<matplotlib.axes._subplots.AxesSubplot at 0x7fb341d86b50>"
            ]
          },
          "metadata": {},
          "execution_count": 103
        },
        {
          "output_type": "display_data",
          "data": {
            "image/png": "[encoded data removed]",
            "text/plain": [
              "<Figure size 864x288 with 1 Axes>"
            ]
          },
          "metadata": {}
        }
      ]
    },
    {
      "cell_type": "markdown",
      "metadata": {
        "id": "uMp0kWDcUsIS"
      },
      "source": [
        "Distribution of the balance feature has a long tail.\n",
        "\n",
        "**3.2.2. Age of customers**"
      ]
    },
    {
      "cell_type": "code",
      "metadata": {
        "colab": {
          "base_uri": "https://localhost:8080/",
          "height": 372
        },
        "id": "vjRt2QXkUuPL",
        "outputId": "209223c4-a985-4872-a637-8d6e0f36a639"
      },
      "source": [
        "plt.figure(figsize = (8, 5))\n",
        "sns.distplot(data.age)\n",
        "plt.title(\"Age distribution\")"
      ],
      "execution_count": 104,
      "outputs": [
        {
          "output_type": "execute_result",
          "data": {
            "text/plain": [
              "Text(0.5, 1.0, 'Age distribution')"
            ]
          },
          "metadata": {},
          "execution_count": 104
        },
        {
          "output_type": "display_data",
          "data": {
            "image/png": "[encoded data removed]",
            "text/plain": [
              "<Figure size 576x360 with 1 Axes>"
            ]
          },
          "metadata": {}
        }
      ]
    },
    {
      "cell_type": "markdown",
      "metadata": {
        "id": "Q8PF6ii2UxAb"
      },
      "source": [
        "Majority of the customers belong in the 20-25 age bracket.\n",
        "\n",
        "**3.2.3. Transaction amount**"
      ]
    },
    {
      "cell_type": "code",
      "metadata": {
        "colab": {
          "base_uri": "https://localhost:8080/",
          "height": 372
        },
        "id": "wxoiqbZXUzlK",
        "outputId": "6bf38dce-f991-4707-b535-82b2ad12bc50"
      },
      "source": [
        "plt.figure(figsize = (8, 5))\n",
        "sns.distplot(data.amount)\n",
        "plt.title(\"Amount distribution\")"
      ],
      "execution_count": 105,
      "outputs": [
        {
          "output_type": "execute_result",
          "data": {
            "text/plain": [
              "Text(0.5, 1.0, 'Amount distribution')"
            ]
          },
          "metadata": {},
          "execution_count": 105
        },
        {
          "output_type": "display_data",
          "data": {
            "image/png": "[encoded data removed]",
            "text/plain": [
              "<Figure size 576x360 with 1 Axes>"
            ]
          },
          "metadata": {}
        }
      ]
    },
    {
      "cell_type": "markdown",
      "metadata": {
        "id": "5Z0Rn59ZX_Xv"
      },
      "source": [
        "# **4. General cleaning**\n",
        "\n",
        "In this section, we are going to focus on dropping unwanted columns, deal with missing values and finally create some additional features that will make our data analysis more detailed and robust.\n",
        "\n",
        "### **4.1. Drop unwanted columns**\n",
        "\n",
        "Drop currency and country columns as they do not provide any aditional information."
      ]
    },
    {
      "cell_type": "code",
      "metadata": {
        "colab": {
          "base_uri": "https://localhost:8080/"
        },
        "id": "EDy2iLOQYBUA",
        "outputId": "b71d9c81-fdde-4a24-b8af-988194fe6782"
      },
      "source": [
        "print(\"Before: \", data.shape)\n",
        "data = data.drop([\"currency\", \"country\"], axis = 1)\n",
        "print(\"After: \", data.shape)"
      ],
      "execution_count": 107,
      "outputs": [
        {
          "output_type": "stream",
          "name": "stdout",
          "text": [
            "Before:  (12043, 23)\n",
            "After:  (12043, 21)\n"
          ]
        }
      ]
    },
    {
      "cell_type": "markdown",
      "metadata": {
        "id": "5q84JSC9YEPe"
      },
      "source": [
        "### **4.2 Deal with missing values**"
      ]
    },
    {
      "cell_type": "code",
      "metadata": {
        "colab": {
          "base_uri": "https://localhost:8080/",
          "height": 265
        },
        "id": "GGkOm-chYGjg",
        "outputId": "ee814322-1478-48b5-aaca-4c0632182d9c"
      },
      "source": [
        "pd.DataFrame({\"Number of missing values\": missing, \"Percentage\": missing_percentage}).sort_values(by = \"Percentage\", ascending = False)"
      ],
      "execution_count": 106,
      "outputs": [
        {
          "output_type": "execute_result",
          "data": {
            "text/html": [
              "<div>\n",
              "<style scoped>\n",
              "    .dataframe tbody tr th:only-of-type {\n",
              "        vertical-align: middle;\n",
              "    }\n",
              "\n",
              "    .dataframe tbody tr th {\n",
              "        vertical-align: top;\n",
              "    }\n",
              "\n",
              "    .dataframe thead th {\n",
              "        text-align: right;\n",
              "    }\n",
              "</style>\n",
              "<table border=\"1\" class=\"dataframe\">\n",
              "  <thead>\n",
              "    <tr style=\"text-align: right;\">\n",
              "      <th></th>\n",
              "      <th>Number of missing values</th>\n",
              "      <th>Percentage</th>\n",
              "    </tr>\n",
              "  </thead>\n",
              "  <tbody>\n",
              "    <tr>\n",
              "      <th>bpay_biller_code</th>\n",
              "      <td>11158</td>\n",
              "      <td>92.7</td>\n",
              "    </tr>\n",
              "    <tr>\n",
              "      <th>merchant_code</th>\n",
              "      <td>11160</td>\n",
              "      <td>92.7</td>\n",
              "    </tr>\n",
              "    <tr>\n",
              "      <th>card_present_flag</th>\n",
              "      <td>4326</td>\n",
              "      <td>35.9</td>\n",
              "    </tr>\n",
              "    <tr>\n",
              "      <th>merchant_id</th>\n",
              "      <td>4326</td>\n",
              "      <td>35.9</td>\n",
              "    </tr>\n",
              "    <tr>\n",
              "      <th>merchant_suburb</th>\n",
              "      <td>4326</td>\n",
              "      <td>35.9</td>\n",
              "    </tr>\n",
              "    <tr>\n",
              "      <th>merchant_state</th>\n",
              "      <td>4326</td>\n",
              "      <td>35.9</td>\n",
              "    </tr>\n",
              "    <tr>\n",
              "      <th>merchant_long_lat</th>\n",
              "      <td>4326</td>\n",
              "      <td>35.9</td>\n",
              "    </tr>\n",
              "  </tbody>\n",
              "</table>\n",
              "</div>"
            ],
            "text/plain": [
              "                   Number of missing values  Percentage\n",
              "bpay_biller_code                      11158        92.7\n",
              "merchant_code                         11160        92.7\n",
              "card_present_flag                      4326        35.9\n",
              "merchant_id                            4326        35.9\n",
              "merchant_suburb                        4326        35.9\n",
              "merchant_state                         4326        35.9\n",
              "merchant_long_lat                      4326        35.9"
            ]
          },
          "metadata": {},
          "execution_count": 106
        }
      ]
    },
    {
      "cell_type": "markdown",
      "metadata": {
        "id": "GgY32-pmYJMg"
      },
      "source": [
        "Let's investigate if there is a reason behind these missing values.\n",
        "\n",
        "Recall that not all transactions are purchases-related, could this imply the missing values in the merchant columns?"
      ]
    },
    {
      "cell_type": "code",
      "metadata": {
        "colab": {
          "base_uri": "https://localhost:8080/"
        },
        "id": "Ejo9YnksYLXB",
        "outputId": "36e64005-920c-45f2-dc12-3f3705b75908"
      },
      "source": [
        "nonSales = data.loc[(data.txn_description != \"SALES-POS\") | (data.txn_description != \"POS\"), :]\n",
        "nonSales.isnull().sum().sort_values(ascending = False)"
      ],
      "execution_count": 108,
      "outputs": [
        {
          "output_type": "execute_result",
          "data": {
            "text/plain": [
              "merchant_code        11160\n",
              "bpay_biller_code     11158\n",
              "card_present_flag     4326\n",
              "merchant_state        4326\n",
              "merchant_suburb       4326\n",
              "merchant_id           4326\n",
              "merchant_long_lat     4326\n",
              "movement                 0\n",
              "first_name               0\n",
              "account                  0\n",
              "long_lat                 0\n",
              "txn_description          0\n",
              "date                     0\n",
              "balance                  0\n",
              "gender                   0\n",
              "age                      0\n",
              "extraction               0\n",
              "amount                   0\n",
              "transaction_id           0\n",
              "customer_id              0\n",
              "status                   0\n",
              "dtype: int64"
            ]
          },
          "metadata": {},
          "execution_count": 108
        }
      ]
    },
    {
      "cell_type": "markdown",
      "metadata": {
        "id": "qzbTMTwXYOJI"
      },
      "source": [
        "Missing values in the following columns \n",
        "all originate from non-purchases transactions:\n",
        "\n",
        "*   card_present_flag\n",
        "*   merchant_state\n",
        "*   merchant_suburb\n",
        "*   merchant_id\n",
        "*   merchant_long_lat\n",
        "\n",
        "We will fill these missing values with n/a."
      ]
    },
    {
      "cell_type": "code",
      "metadata": {
        "id": "pobzojmEfxY8"
      },
      "source": [
        "cols = [\"card_present_flag\", \"merchant_state\", \"merchant_suburb\", \"merchant_id\", \"merchant_long_lat\"]\n",
        "for col in cols:\n",
        "    data[col].fillna(\"n/a\", inplace = True)"
      ],
      "execution_count": 116,
      "outputs": []
    },
    {
      "cell_type": "code",
      "metadata": {
        "colab": {
          "base_uri": "https://localhost:8080/"
        },
        "id": "JSayGzoLYVLE",
        "outputId": "cafb5122-0480-4037-daf9-407c3c93ff67"
      },
      "source": [
        "missing = data.isnull().sum()\n",
        "missing = missing[missing > 0]\n",
        "missing.sort_values(ascending = False)"
      ],
      "execution_count": 117,
      "outputs": [
        {
          "output_type": "execute_result",
          "data": {
            "text/plain": [
              "merchant_code       11160\n",
              "bpay_biller_code    11158\n",
              "dtype: int64"
            ]
          },
          "metadata": {},
          "execution_count": 117
        }
      ]
    },
    {
      "cell_type": "markdown",
      "metadata": {
        "id": "FZYQZjCXYYHP"
      },
      "source": [
        "Both merchant_code and bpay_biller_code are severely missing, around 93%. Therefore, we will drop those 2 columns from the dataframe."
      ]
    },
    {
      "cell_type": "code",
      "metadata": {
        "id": "uFJWCltjYWen"
      },
      "source": [
        "data = data.drop([\"merchant_code\", \"bpay_biller_code\"], axis = 1)"
      ],
      "execution_count": null,
      "outputs": []
    },
    {
      "cell_type": "markdown",
      "metadata": {
        "id": "HuyyXQG7YcrH"
      },
      "source": [
        "Now, make sure there are no more missing data."
      ]
    },
    {
      "cell_type": "code",
      "metadata": {
        "id": "j9uMxMn8Ygyi"
      },
      "source": [
        "data.isnull().sum().max()"
      ],
      "execution_count": null,
      "outputs": []
    },
    {
      "cell_type": "markdown",
      "metadata": {
        "id": "2ZCW_Y05Yi5_"
      },
      "source": [
        "### **4.3 Create features for month, dayofweek and hour**"
      ]
    },
    {
      "cell_type": "code",
      "metadata": {
        "id": "cbi7jR1NYosi"
      },
      "source": [
        "daily_amount = pd.DataFrame(data.groupby(\"date\").amount.sum())\n",
        "daily_amount.head()"
      ],
      "execution_count": null,
      "outputs": []
    },
    {
      "cell_type": "code",
      "metadata": {
        "id": "UJkKiHDdYqz8"
      },
      "source": [
        "fig, ax = plt.subplots(figsize = (12, 5))\n",
        "ax.plot(daily_amount.index, daily_amount.amount)\n",
        "plt.title(\"Transaction volume from 1/8/2018 to 31/10/2018\")\n",
        "plt.xlabel(\"Date\")\n",
        "plt.ylabel(\"Transaction volume\")"
      ],
      "execution_count": null,
      "outputs": []
    },
    {
      "cell_type": "markdown",
      "metadata": {
        "id": "rM9F9pf6YtSm"
      },
      "source": [
        "There appears to be a cyclical pattern in transaction volume over the 3 month period, because salaries are paid out only on certain days of the week.\n",
        "People tend to spend more during the weekends (shopping, going out with friends etc).\n",
        "We will move forward with this analysis by creating 3 new features from both the date and extraction columns:\n",
        "\n",
        "*   month\n",
        "*   dayofweek\n",
        "*   hour"
      ]
    },
    {
      "cell_type": "code",
      "metadata": {
        "colab": {
          "base_uri": "https://localhost:8080/",
          "height": 203
        },
        "id": "t6G2kQPJYwgX",
        "outputId": "8a558384-0025-4f19-d903-b43b80e38aa5"
      },
      "source": [
        "data[\"month\"] = pd.DatetimeIndex(data.date).month\n",
        "data[\"dayofweek\"] = pd.DatetimeIndex(data.date).dayofweek\n",
        "data[[\"date\", \"month\", \"dayofweek\"]].head()"
      ],
      "execution_count": 118,
      "outputs": [
        {
          "output_type": "execute_result",
          "data": {
            "text/html": [
              "<div>\n",
              "<style scoped>\n",
              "    .dataframe tbody tr th:only-of-type {\n",
              "        vertical-align: middle;\n",
              "    }\n",
              "\n",
              "    .dataframe tbody tr th {\n",
              "        vertical-align: top;\n",
              "    }\n",
              "\n",
              "    .dataframe thead th {\n",
              "        text-align: right;\n",
              "    }\n",
              "</style>\n",
              "<table border=\"1\" class=\"dataframe\">\n",
              "  <thead>\n",
              "    <tr style=\"text-align: right;\">\n",
              "      <th></th>\n",
              "      <th>date</th>\n",
              "      <th>month</th>\n",
              "      <th>dayofweek</th>\n",
              "    </tr>\n",
              "  </thead>\n",
              "  <tbody>\n",
              "    <tr>\n",
              "      <th>0</th>\n",
              "      <td>2018-08-01</td>\n",
              "      <td>8</td>\n",
              "      <td>2</td>\n",
              "    </tr>\n",
              "    <tr>\n",
              "      <th>1</th>\n",
              "      <td>2018-08-01</td>\n",
              "      <td>8</td>\n",
              "      <td>2</td>\n",
              "    </tr>\n",
              "    <tr>\n",
              "      <th>2</th>\n",
              "      <td>2018-08-01</td>\n",
              "      <td>8</td>\n",
              "      <td>2</td>\n",
              "    </tr>\n",
              "    <tr>\n",
              "      <th>3</th>\n",
              "      <td>2018-08-01</td>\n",
              "      <td>8</td>\n",
              "      <td>2</td>\n",
              "    </tr>\n",
              "    <tr>\n",
              "      <th>4</th>\n",
              "      <td>2018-08-01</td>\n",
              "      <td>8</td>\n",
              "      <td>2</td>\n",
              "    </tr>\n",
              "  </tbody>\n",
              "</table>\n",
              "</div>"
            ],
            "text/plain": [
              "        date  month  dayofweek\n",
              "0 2018-08-01      8          2\n",
              "1 2018-08-01      8          2\n",
              "2 2018-08-01      8          2\n",
              "3 2018-08-01      8          2\n",
              "4 2018-08-01      8          2"
            ]
          },
          "metadata": {},
          "execution_count": 118
        }
      ]
    },
    {
      "cell_type": "markdown",
      "metadata": {
        "id": "d8a_hlz6YyjR"
      },
      "source": [
        "In addition to month and day of week, we can also get the hour in which those transactions took place from the extraction column.\n",
        "\n",
        "I will update the extraction column such that it only contains the time. Then, I will create a new hour column which contains only the hour component of each transaction."
      ]
    },
    {
      "cell_type": "code",
      "metadata": {
        "colab": {
          "base_uri": "https://localhost:8080/"
        },
        "id": "xCDSrKHIY0kP",
        "outputId": "9bb9d07d-380d-4714-e028-bd8e8792a75b"
      },
      "source": [
        "data.extraction.head()"
      ],
      "execution_count": 119,
      "outputs": [
        {
          "output_type": "execute_result",
          "data": {
            "text/plain": [
              "0    01:01:15\n",
              "1    01:13:45\n",
              "2    01:26:15\n",
              "3    01:38:45\n",
              "4    01:51:15\n",
              "Name: extraction, dtype: object"
            ]
          },
          "metadata": {},
          "execution_count": 119
        }
      ]
    },
    {
      "cell_type": "code",
      "metadata": {
        "colab": {
          "base_uri": "https://localhost:8080/",
          "height": 203
        },
        "id": "16-s_69XY4ag",
        "outputId": "c8690861-64b3-4a44-ed9a-f30e7ddc87bf"
      },
      "source": [
        "data[\"hour\"] = [time.split(\":\")[0] for time in data.extraction]\n",
        "data[[\"extraction\", \"hour\"]].head()"
      ],
      "execution_count": 111,
      "outputs": [
        {
          "output_type": "execute_result",
          "data": {
            "text/html": [
              "<div>\n",
              "<style scoped>\n",
              "    .dataframe tbody tr th:only-of-type {\n",
              "        vertical-align: middle;\n",
              "    }\n",
              "\n",
              "    .dataframe tbody tr th {\n",
              "        vertical-align: top;\n",
              "    }\n",
              "\n",
              "    .dataframe thead th {\n",
              "        text-align: right;\n",
              "    }\n",
              "</style>\n",
              "<table border=\"1\" class=\"dataframe\">\n",
              "  <thead>\n",
              "    <tr style=\"text-align: right;\">\n",
              "      <th></th>\n",
              "      <th>extraction</th>\n",
              "      <th>hour</th>\n",
              "    </tr>\n",
              "  </thead>\n",
              "  <tbody>\n",
              "    <tr>\n",
              "      <th>0</th>\n",
              "      <td>01:01:15</td>\n",
              "      <td>01</td>\n",
              "    </tr>\n",
              "    <tr>\n",
              "      <th>1</th>\n",
              "      <td>01:13:45</td>\n",
              "      <td>01</td>\n",
              "    </tr>\n",
              "    <tr>\n",
              "      <th>2</th>\n",
              "      <td>01:26:15</td>\n",
              "      <td>01</td>\n",
              "    </tr>\n",
              "    <tr>\n",
              "      <th>3</th>\n",
              "      <td>01:38:45</td>\n",
              "      <td>01</td>\n",
              "    </tr>\n",
              "    <tr>\n",
              "      <th>4</th>\n",
              "      <td>01:51:15</td>\n",
              "      <td>01</td>\n",
              "    </tr>\n",
              "  </tbody>\n",
              "</table>\n",
              "</div>"
            ],
            "text/plain": [
              "  extraction hour\n",
              "0   01:01:15   01\n",
              "1   01:13:45   01\n",
              "2   01:26:15   01\n",
              "3   01:38:45   01\n",
              "4   01:51:15   01"
            ]
          },
          "metadata": {},
          "execution_count": 111
        }
      ]
    },
    {
      "cell_type": "code",
      "metadata": {
        "colab": {
          "base_uri": "https://localhost:8080/"
        },
        "id": "NLBmCUrrY5-R",
        "outputId": "2e787144-58a7-4772-bf8f-05b875367122"
      },
      "source": [
        "print(\"Before: \", data.hour.dtype)\n",
        "data[\"hour\"] = pd.to_numeric(data.hour)\n",
        "print(\"After: \", data.hour.dtype)"
      ],
      "execution_count": 112,
      "outputs": [
        {
          "output_type": "stream",
          "name": "stdout",
          "text": [
            "Before:  object\n",
            "After:  int64\n"
          ]
        }
      ]
    },
    {
      "cell_type": "markdown",
      "metadata": {
        "id": "o9gNQDcQY-__"
      },
      "source": [
        "# **5. Advanced Analysis**\n",
        "\n",
        "Our dataframe is in a much better shape and we have new features to work with, let's now do a deep dive and see if we can gather any interesting insights about customers' transactional behaviour."
      ]
    },
    {
      "cell_type": "code",
      "metadata": {
        "id": "P6d6dZxoZBfw"
      },
      "source": [
        "data.head()"
      ],
      "execution_count": null,
      "outputs": []
    },
    {
      "cell_type": "markdown",
      "metadata": {
        "id": "paRE16rDZJb8"
      },
      "source": [
        "### **5.1. Purchases amount and overall amount**"
      ]
    },
    {
      "cell_type": "code",
      "metadata": {
        "colab": {
          "base_uri": "https://localhost:8080/"
        },
        "id": "NK7x_DeXZDPi",
        "outputId": "a31fb1be-c1a9-46ee-ff71-f0d5fbb9e9a8"
      },
      "source": [
        "purchases_amount = data.loc[(data.txn_description == \"POS\") | (data.txn_description == \"SALES-POS\"), \"amount\"]\n",
        "purchases_amount.head()"
      ],
      "execution_count": 124,
      "outputs": [
        {
          "output_type": "execute_result",
          "data": {
            "text/plain": [
              "0    16.25\n",
              "1    14.19\n",
              "2     6.42\n",
              "3    40.90\n",
              "4     3.25\n",
              "Name: amount, dtype: float64"
            ]
          },
          "metadata": {},
          "execution_count": 124
        }
      ]
    },
    {
      "cell_type": "code",
      "metadata": {
        "colab": {
          "base_uri": "https://localhost:8080/",
          "height": 372
        },
        "id": "QjAqniEqZFJf",
        "outputId": "ebbd7f88-fc6d-4653-b2b1-b49cb0ee463d"
      },
      "source": [
        "plt.figure(figsize = (8, 5))\n",
        "sns.distplot(purchases_amount)\n",
        "plt.title(\"Purchase transaction amount\")"
      ],
      "execution_count": 125,
      "outputs": [
        {
          "output_type": "execute_result",
          "data": {
            "text/plain": [
              "Text(0.5, 1.0, 'Purchase transaction amount')"
            ]
          },
          "metadata": {},
          "execution_count": 125
        },
        {
          "output_type": "display_data",
          "data": {
            "image/png": "[encoded data removed]",
            "text/plain": [
              "<Figure size 576x360 with 1 Axes>"
            ]
          },
          "metadata": {}
        }
      ]
    },
    {
      "cell_type": "code",
      "metadata": {
        "colab": {
          "base_uri": "https://localhost:8080/"
        },
        "id": "0ZPXIN7tZMG-",
        "outputId": "0d40d0b3-4ef5-4fd6-94e5-053fb826cd0c"
      },
      "source": [
        "purchases_amount.describe()"
      ],
      "execution_count": 126,
      "outputs": [
        {
          "output_type": "execute_result",
          "data": {
            "text/plain": [
              "count    7717.000000\n",
              "mean       40.153732\n",
              "std       149.833070\n",
              "min         0.100000\n",
              "25%        12.080000\n",
              "50%        19.700000\n",
              "75%        33.910000\n",
              "max      7081.090000\n",
              "Name: amount, dtype: float64"
            ]
          },
          "metadata": {},
          "execution_count": 126
        }
      ]
    },
    {
      "cell_type": "code",
      "metadata": {
        "colab": {
          "base_uri": "https://localhost:8080/",
          "height": 372
        },
        "id": "PSGh48ApZNni",
        "outputId": "f5318bf7-a24c-4eef-aa54-937c819db5cd"
      },
      "source": [
        "plt.figure(figsize = (8, 5))\n",
        "sns.distplot(data.amount)\n",
        "plt.title(\"Overall transaction amount\")"
      ],
      "execution_count": 127,
      "outputs": [
        {
          "output_type": "execute_result",
          "data": {
            "text/plain": [
              "Text(0.5, 1.0, 'Overall transaction amount')"
            ]
          },
          "metadata": {},
          "execution_count": 127
        },
        {
          "output_type": "display_data",
          "data": {
            "image/png": "[encoded data removed]",
            "text/plain": [
              "<Figure size 576x360 with 1 Axes>"
            ]
          },
          "metadata": {}
        }
      ]
    },
    {
      "cell_type": "code",
      "metadata": {
        "colab": {
          "base_uri": "https://localhost:8080/"
        },
        "id": "b57fvSkKZQRm",
        "outputId": "bde48254-fa9c-494c-d675-b24e2c503589"
      },
      "source": [
        "data.amount.describe()"
      ],
      "execution_count": 128,
      "outputs": [
        {
          "output_type": "execute_result",
          "data": {
            "text/plain": [
              "count    12043.000000\n",
              "mean       187.933588\n",
              "std        592.599934\n",
              "min          0.100000\n",
              "25%         16.000000\n",
              "50%         29.000000\n",
              "75%         53.655000\n",
              "max       8835.980000\n",
              "Name: amount, dtype: float64"
            ]
          },
          "metadata": {},
          "execution_count": 128
        }
      ]
    },
    {
      "cell_type": "markdown",
      "metadata": {
        "id": "V5h4XF0wZU1-"
      },
      "source": [
        "Variance in overall transaction amount is much higher than purchases transaction amount due to the inclusion of salary payments.\n",
        "\n",
        "### **5.2. Transaction volume per customer**"
      ]
    },
    {
      "cell_type": "code",
      "metadata": {
        "colab": {
          "base_uri": "https://localhost:8080/",
          "height": 234
        },
        "id": "Vp9WfoPFZRho",
        "outputId": "404393ae-1236-4831-ce9c-21b66cb009cd"
      },
      "source": [
        "customer_monthly_volume = pd.DataFrame(data.groupby(\"customer_id\").amount.sum() / 3) \n",
        "customer_monthly_volume.head()"
      ],
      "execution_count": 129,
      "outputs": [
        {
          "output_type": "execute_result",
          "data": {
            "text/html": [
              "<div>\n",
              "<style scoped>\n",
              "    .dataframe tbody tr th:only-of-type {\n",
              "        vertical-align: middle;\n",
              "    }\n",
              "\n",
              "    .dataframe tbody tr th {\n",
              "        vertical-align: top;\n",
              "    }\n",
              "\n",
              "    .dataframe thead th {\n",
              "        text-align: right;\n",
              "    }\n",
              "</style>\n",
              "<table border=\"1\" class=\"dataframe\">\n",
              "  <thead>\n",
              "    <tr style=\"text-align: right;\">\n",
              "      <th></th>\n",
              "      <th>amount</th>\n",
              "    </tr>\n",
              "    <tr>\n",
              "      <th>customer_id</th>\n",
              "      <th></th>\n",
              "    </tr>\n",
              "  </thead>\n",
              "  <tbody>\n",
              "    <tr>\n",
              "      <th>CUS-1005756958</th>\n",
              "      <td>5422.990000</td>\n",
              "    </tr>\n",
              "    <tr>\n",
              "      <th>CUS-1117979751</th>\n",
              "      <td>11328.123333</td>\n",
              "    </tr>\n",
              "    <tr>\n",
              "      <th>CUS-1140341822</th>\n",
              "      <td>5670.200000</td>\n",
              "    </tr>\n",
              "    <tr>\n",
              "      <th>CUS-1147642491</th>\n",
              "      <td>9660.273333</td>\n",
              "    </tr>\n",
              "    <tr>\n",
              "      <th>CUS-1196156254</th>\n",
              "      <td>12016.906667</td>\n",
              "    </tr>\n",
              "  </tbody>\n",
              "</table>\n",
              "</div>"
            ],
            "text/plain": [
              "                      amount\n",
              "customer_id                 \n",
              "CUS-1005756958   5422.990000\n",
              "CUS-1117979751  11328.123333\n",
              "CUS-1140341822   5670.200000\n",
              "CUS-1147642491   9660.273333\n",
              "CUS-1196156254  12016.906667"
            ]
          },
          "metadata": {},
          "execution_count": 129
        }
      ]
    },
    {
      "cell_type": "code",
      "metadata": {
        "colab": {
          "base_uri": "https://localhost:8080/",
          "height": 315
        },
        "id": "fUXmfYEYZYDW",
        "outputId": "489a8a41-05e9-4a86-a7c2-7c5e593e1f73"
      },
      "source": [
        "plt.figure(figsize = (12, 5))\n",
        "sns.distplot(customer_monthly_volume.amount)\n",
        "plt.title(\"Customers' monthly transaction volume\")"
      ],
      "execution_count": 130,
      "outputs": [
        {
          "output_type": "execute_result",
          "data": {
            "text/plain": [
              "Text(0.5, 1.0, \"Customers' monthly transaction volume\")"
            ]
          },
          "metadata": {},
          "execution_count": 130
        },
        {
          "output_type": "display_data",
          "data": {
            "image/png": "[encoded data removed]",
            "text/plain": [
              "<Figure size 864x360 with 1 Axes>"
            ]
          },
          "metadata": {}
        }
      ]
    },
    {
      "cell_type": "markdown",
      "metadata": {
        "id": "LURyqFPzZaQq"
      },
      "source": [
        "### **5.3. Transaction volume over time**"
      ]
    },
    {
      "cell_type": "code",
      "metadata": {
        "colab": {
          "base_uri": "https://localhost:8080/",
          "height": 372
        },
        "id": "jHpuf5RTZcm7",
        "outputId": "03eec64c-64ad-47ad-a577-0e7cbeabbe1b"
      },
      "source": [
        "plt.figure(figsize = (5, 5))\n",
        "sns.barplot(x = \"month\", y = \"amount\", data = data)\n",
        "plt.title(\"Average transaction volume by month\")"
      ],
      "execution_count": 132,
      "outputs": [
        {
          "output_type": "execute_result",
          "data": {
            "text/plain": [
              "Text(0.5, 1.0, 'Average transaction volume by month')"
            ]
          },
          "metadata": {},
          "execution_count": 132
        },
        {
          "output_type": "display_data",
          "data": {
            "image/png": "[encoded data removed]",
            "text/plain": [
              "<Figure size 360x360 with 1 Axes>"
            ]
          },
          "metadata": {}
        }
      ]
    },
    {
      "cell_type": "code",
      "metadata": {
        "colab": {
          "base_uri": "https://localhost:8080/",
          "height": 234
        },
        "id": "RwHCZbVhZg1W",
        "outputId": "f4435657-f0b2-466f-9807-e275377b9fd2"
      },
      "source": [
        "average_daily_volume = pd.DataFrame(data.groupby(\"dayofweek\").amount.mean())\n",
        "average_daily_volume.head()"
      ],
      "execution_count": 131,
      "outputs": [
        {
          "output_type": "execute_result",
          "data": {
            "text/html": [
              "<div>\n",
              "<style scoped>\n",
              "    .dataframe tbody tr th:only-of-type {\n",
              "        vertical-align: middle;\n",
              "    }\n",
              "\n",
              "    .dataframe tbody tr th {\n",
              "        vertical-align: top;\n",
              "    }\n",
              "\n",
              "    .dataframe thead th {\n",
              "        text-align: right;\n",
              "    }\n",
              "</style>\n",
              "<table border=\"1\" class=\"dataframe\">\n",
              "  <thead>\n",
              "    <tr style=\"text-align: right;\">\n",
              "      <th></th>\n",
              "      <th>amount</th>\n",
              "    </tr>\n",
              "    <tr>\n",
              "      <th>dayofweek</th>\n",
              "      <th></th>\n",
              "    </tr>\n",
              "  </thead>\n",
              "  <tbody>\n",
              "    <tr>\n",
              "      <th>0</th>\n",
              "      <td>373.221000</td>\n",
              "    </tr>\n",
              "    <tr>\n",
              "      <th>1</th>\n",
              "      <td>221.576456</td>\n",
              "    </tr>\n",
              "    <tr>\n",
              "      <th>2</th>\n",
              "      <td>195.215570</td>\n",
              "    </tr>\n",
              "    <tr>\n",
              "      <th>3</th>\n",
              "      <td>184.010422</td>\n",
              "    </tr>\n",
              "    <tr>\n",
              "      <th>4</th>\n",
              "      <td>249.353517</td>\n",
              "    </tr>\n",
              "  </tbody>\n",
              "</table>\n",
              "</div>"
            ],
            "text/plain": [
              "               amount\n",
              "dayofweek            \n",
              "0          373.221000\n",
              "1          221.576456\n",
              "2          195.215570\n",
              "3          184.010422\n",
              "4          249.353517"
            ]
          },
          "metadata": {},
          "execution_count": 131
        }
      ]
    },
    {
      "cell_type": "code",
      "metadata": {
        "colab": {
          "base_uri": "https://localhost:8080/",
          "height": 372
        },
        "id": "Gnmd0c5KZihT",
        "outputId": "72b0e307-7f31-4b85-f9b2-b9d3a388bf0e"
      },
      "source": [
        "fig, ax = plt.subplots(figsize = (8, 5))\n",
        "ax.plot(average_daily_volume.index, average_daily_volume.amount)\n",
        "plt.title(\"Average transaction volume per day\")\n",
        "plt.ylabel(\"Transaction volume\")\n",
        "plt.xlabel(\"Day of week\")"
      ],
      "execution_count": 133,
      "outputs": [
        {
          "output_type": "execute_result",
          "data": {
            "text/plain": [
              "Text(0.5, 0, 'Day of week')"
            ]
          },
          "metadata": {},
          "execution_count": 133
        },
        {
          "output_type": "display_data",
          "data": {
            "image/png": "[encoded data removed]",
            "text/plain": [
              "<Figure size 576x360 with 1 Axes>"
            ]
          },
          "metadata": {}
        }
      ]
    },
    {
      "cell_type": "markdown",
      "metadata": {
        "id": "SVLnpIhcZk9-"
      },
      "source": [
        "Friday and Saturday have the lowest average transaction volume. Let's see a breakdown of these transactions by types of transactions.\n",
        "\n",
        "To simplify the categories, I will group all transactions into 3 categories:\n",
        "\n",
        "*   Salary\n",
        "*   Purchase\n",
        "*   Others\n",
        "\n",
        "\n"
      ]
    },
    {
      "cell_type": "code",
      "metadata": {
        "colab": {
          "base_uri": "https://localhost:8080/"
        },
        "id": "9JJC77RAZnDu",
        "outputId": "15b4e830-ef33-44fd-bfa1-c162595c1283"
      },
      "source": [
        "data.txn_description.value_counts()"
      ],
      "execution_count": 134,
      "outputs": [
        {
          "output_type": "execute_result",
          "data": {
            "text/plain": [
              "SALES-POS     3934\n",
              "POS           3783\n",
              "PAYMENT       2600\n",
              "PAY/SALARY     883\n",
              "INTER BANK     742\n",
              "PHONE BANK     101\n",
              "Name: txn_description, dtype: int64"
            ]
          },
          "metadata": {},
          "execution_count": 134
        }
      ]
    },
    {
      "cell_type": "code",
      "metadata": {
        "colab": {
          "base_uri": "https://localhost:8080/",
          "height": 357
        },
        "id": "5REDZIYCZo30",
        "outputId": "ceb38000-061e-4d44-9297-094a3a503296"
      },
      "source": [
        "data.loc[data.txn_description == \"PAY/SALARY\", \"category\"] = \"Salary\"\n",
        "data.loc[(data.txn_description == \"SALES-POS\") | (data.txn_description == \"POS\"), \"category\"] = \"Purchase\"\n",
        "data.category.fillna(\"Others\", inplace = True)\n",
        "data[[\"txn_description\", \"category\"]].head(10)"
      ],
      "execution_count": 135,
      "outputs": [
        {
          "output_type": "execute_result",
          "data": {
            "text/html": [
              "<div>\n",
              "<style scoped>\n",
              "    .dataframe tbody tr th:only-of-type {\n",
              "        vertical-align: middle;\n",
              "    }\n",
              "\n",
              "    .dataframe tbody tr th {\n",
              "        vertical-align: top;\n",
              "    }\n",
              "\n",
              "    .dataframe thead th {\n",
              "        text-align: right;\n",
              "    }\n",
              "</style>\n",
              "<table border=\"1\" class=\"dataframe\">\n",
              "  <thead>\n",
              "    <tr style=\"text-align: right;\">\n",
              "      <th></th>\n",
              "      <th>txn_description</th>\n",
              "      <th>category</th>\n",
              "    </tr>\n",
              "  </thead>\n",
              "  <tbody>\n",
              "    <tr>\n",
              "      <th>0</th>\n",
              "      <td>POS</td>\n",
              "      <td>Purchase</td>\n",
              "    </tr>\n",
              "    <tr>\n",
              "      <th>1</th>\n",
              "      <td>SALES-POS</td>\n",
              "      <td>Purchase</td>\n",
              "    </tr>\n",
              "    <tr>\n",
              "      <th>2</th>\n",
              "      <td>POS</td>\n",
              "      <td>Purchase</td>\n",
              "    </tr>\n",
              "    <tr>\n",
              "      <th>3</th>\n",
              "      <td>SALES-POS</td>\n",
              "      <td>Purchase</td>\n",
              "    </tr>\n",
              "    <tr>\n",
              "      <th>4</th>\n",
              "      <td>SALES-POS</td>\n",
              "      <td>Purchase</td>\n",
              "    </tr>\n",
              "    <tr>\n",
              "      <th>5</th>\n",
              "      <td>PAYMENT</td>\n",
              "      <td>Others</td>\n",
              "    </tr>\n",
              "    <tr>\n",
              "      <th>6</th>\n",
              "      <td>SALES-POS</td>\n",
              "      <td>Purchase</td>\n",
              "    </tr>\n",
              "    <tr>\n",
              "      <th>7</th>\n",
              "      <td>POS</td>\n",
              "      <td>Purchase</td>\n",
              "    </tr>\n",
              "    <tr>\n",
              "      <th>8</th>\n",
              "      <td>POS</td>\n",
              "      <td>Purchase</td>\n",
              "    </tr>\n",
              "    <tr>\n",
              "      <th>9</th>\n",
              "      <td>INTER BANK</td>\n",
              "      <td>Others</td>\n",
              "    </tr>\n",
              "  </tbody>\n",
              "</table>\n",
              "</div>"
            ],
            "text/plain": [
              "  txn_description  category\n",
              "0             POS  Purchase\n",
              "1       SALES-POS  Purchase\n",
              "2             POS  Purchase\n",
              "3       SALES-POS  Purchase\n",
              "4       SALES-POS  Purchase\n",
              "5         PAYMENT    Others\n",
              "6       SALES-POS  Purchase\n",
              "7             POS  Purchase\n",
              "8             POS  Purchase\n",
              "9      INTER BANK    Others"
            ]
          },
          "metadata": {},
          "execution_count": 135
        }
      ]
    },
    {
      "cell_type": "code",
      "metadata": {
        "colab": {
          "base_uri": "https://localhost:8080/",
          "height": 412
        },
        "id": "zLDKIfslZrYl",
        "outputId": "362ac267-1184-47b4-ab2e-016f9f80937d"
      },
      "source": [
        "stacked_barplot = pd.DataFrame(data.groupby([\"dayofweek\", \"category\"]).amount.count())\n",
        "stacked_barplot.unstack().plot(kind = \"bar\", stacked = True, figsize = (12, 7))\n",
        "plt.title(\"Number of transactions each day by category\")\n",
        "plt.legend([\"Others\", \"Purchases\", \"Salaries\"])\n",
        "plt.ylabel(\"Number of transactions\")\n",
        "plt.xlabel(\"Day of week\")"
      ],
      "execution_count": 136,
      "outputs": [
        {
          "output_type": "execute_result",
          "data": {
            "text/plain": [
              "Text(0.5, 0, 'Day of week')"
            ]
          },
          "metadata": {},
          "execution_count": 136
        },
        {
          "output_type": "display_data",
          "data": {
            "image/png": "[encoded data removed]",
            "text/plain": [
              "<Figure size 864x504 with 1 Axes>"
            ]
          },
          "metadata": {}
        }
      ]
    },
    {
      "cell_type": "markdown",
      "metadata": {
        "id": "c-HTA1GfZzFF"
      },
      "source": [
        "No salaries were paid on Friday and Saturday, therefore lower average transaction volume on those days.\n",
        "\n",
        "Also, it does not seem to appear that people spend more on purchases over the weekends"
      ]
    },
    {
      "cell_type": "code",
      "metadata": {
        "colab": {
          "base_uri": "https://localhost:8080/",
          "height": 234
        },
        "id": "w0-IFQhAZtgK",
        "outputId": "9b2b1f85-4ddf-4c21-b96a-913dabbbce20"
      },
      "source": [
        "average_hourly_volume = pd.DataFrame(data.groupby(\"hour\").amount.mean())\n",
        "average_hourly_volume.head()"
      ],
      "execution_count": 137,
      "outputs": [
        {
          "output_type": "execute_result",
          "data": {
            "text/html": [
              "<div>\n",
              "<style scoped>\n",
              "    .dataframe tbody tr th:only-of-type {\n",
              "        vertical-align: middle;\n",
              "    }\n",
              "\n",
              "    .dataframe tbody tr th {\n",
              "        vertical-align: top;\n",
              "    }\n",
              "\n",
              "    .dataframe thead th {\n",
              "        text-align: right;\n",
              "    }\n",
              "</style>\n",
              "<table border=\"1\" class=\"dataframe\">\n",
              "  <thead>\n",
              "    <tr style=\"text-align: right;\">\n",
              "      <th></th>\n",
              "      <th>amount</th>\n",
              "    </tr>\n",
              "    <tr>\n",
              "      <th>hour</th>\n",
              "      <th></th>\n",
              "    </tr>\n",
              "  </thead>\n",
              "  <tbody>\n",
              "    <tr>\n",
              "      <th>0</th>\n",
              "      <td>28.274907</td>\n",
              "    </tr>\n",
              "    <tr>\n",
              "      <th>1</th>\n",
              "      <td>48.716402</td>\n",
              "    </tr>\n",
              "    <tr>\n",
              "      <th>2</th>\n",
              "      <td>75.269764</td>\n",
              "    </tr>\n",
              "    <tr>\n",
              "      <th>3</th>\n",
              "      <td>84.725918</td>\n",
              "    </tr>\n",
              "    <tr>\n",
              "      <th>4</th>\n",
              "      <td>61.301845</td>\n",
              "    </tr>\n",
              "  </tbody>\n",
              "</table>\n",
              "</div>"
            ],
            "text/plain": [
              "         amount\n",
              "hour           \n",
              "0     28.274907\n",
              "1     48.716402\n",
              "2     75.269764\n",
              "3     84.725918\n",
              "4     61.301845"
            ]
          },
          "metadata": {},
          "execution_count": 137
        }
      ]
    },
    {
      "cell_type": "code",
      "metadata": {
        "colab": {
          "base_uri": "https://localhost:8080/",
          "height": 372
        },
        "id": "Jlhlga_PZv7u",
        "outputId": "2c85c329-127c-4902-e2e3-89645e345fc1"
      },
      "source": [
        "fig, ax = plt.subplots(figsize = (8, 5))\n",
        "ax.plot(average_hourly_volume.index, average_hourly_volume.amount)\n",
        "plt.title(\"Average transaction volume per hour\")\n",
        "plt.ylabel(\"Transaction volume\")\n",
        "plt.xlabel(\"Hour\")"
      ],
      "execution_count": 138,
      "outputs": [
        {
          "output_type": "execute_result",
          "data": {
            "text/plain": [
              "Text(0.5, 0, 'Hour')"
            ]
          },
          "metadata": {},
          "execution_count": 138
        },
        {
          "output_type": "display_data",
          "data": {
            "image/png": "[encoded data removed]",
            "text/plain": [
              "<Figure size 576x360 with 1 Axes>"
            ]
          },
          "metadata": {}
        }
      ]
    },
    {
      "cell_type": "markdown",
      "metadata": {
        "id": "Eb7zyCRMZ1Ao"
      },
      "source": [
        "Highest transaction volumes happen during the midday and late afternoon. Let's see a breakdown of these transactions by categories."
      ]
    },
    {
      "cell_type": "code",
      "metadata": {
        "id": "OMeRQBN9Z3IG"
      },
      "source": [
        "stacked_barplot = pd.DataFrame(data.groupby([\"hour\", \"category\"]).amount.count())\n",
        "stacked_barplot.unstack().plot(kind = \"bar\", stacked = True, figsize = (12, 7))\n",
        "plt.title(\"Number of transactions each hour by category\")\n",
        "plt.legend([\"Others\", \"Purchases\", \"Salaries\"])\n",
        "plt.ylabel(\"Number of transactions\")\n",
        "plt.xlabel(\"Hour\")"
      ],
      "execution_count": null,
      "outputs": []
    },
    {
      "cell_type": "markdown",
      "metadata": {
        "id": "KwQD7g-wZ5py"
      },
      "source": [
        "### **5.4. Homework: distance between customers and merchants**\n",
        "\n",
        "An additional challenge that we could do is figuring out the distance between the customers and the merchants and analyse its distribution.\n",
        "\n",
        "This can be done via the haversine library in Python which calculates the distance between two points on the Earth using their latitude and longitude. We can obtain the latitude and longitude of both the customers and merchants from the following columns:\n",
        "\n",
        "*   long_lat\n",
        "*   merchant_long_lat"
      ]
    },
    {
      "cell_type": "code",
      "metadata": {
        "id": "QQdFdt0yZ-m9"
      },
      "source": [
        "data[[\"long_lat\", \"merchant_long_lat\"]].head()"
      ],
      "execution_count": null,
      "outputs": []
    },
    {
      "cell_type": "markdown",
      "metadata": {
        "id": "G7j8QUquaENG"
      },
      "source": [
        "# **6. Save data**\n",
        "Task 1 is done! Save data for task 2."
      ]
    }
  ]
}