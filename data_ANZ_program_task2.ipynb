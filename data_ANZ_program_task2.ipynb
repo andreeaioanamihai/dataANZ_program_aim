{
  "nbformat": 4,
  "nbformat_minor": 0,
  "metadata": {
    "colab": {
      "name": "data@ANZ_program_task2.ipynb",
      "provenance": [],
      "collapsed_sections": []
    },
    "kernelspec": {
      "name": "python3",
      "display_name": "Python 3"
    },
    "language_info": {
      "name": "python"
    }
  },
  "cells": [
    {
      "cell_type": "markdown",
      "metadata": {
        "id": "D3nc48P3YiUZ"
      },
      "source": [
        "#Task 2 : Predictive Analytics\n",
        "\n",
        "### **Data Description:**\n",
        "\n",
        "This task is based on a synthesised transaction dataset containing 3 months’ worth of transactions for 100 hypothetical customers. It contains purchases, recurring transactions, and salary transactions.\n",
        "\n",
        "The dataset is designed to simulate realistic transaction behaviours that are observed in ANZ’s real transaction data, so many of the insights you can gather from the tasks below will be genuine.\n",
        "\n",
        "---\n",
        "\n",
        "The original data from this Excel format used for this analysis comes from https://www.theforage.com/modules/ZLJCsrpkHo9pZBJNY/BiJPfqmGY2QwgN6gA?ref=LW7dHDBSC956M2559.\n",
        "\n",
        "---\n",
        "\n",
        "### **Analysis Purpose:**\n",
        "\n",
        "*   Using the same transaction dataset, identify the annual salary for each customer\n",
        "\n",
        "*   Explore correlations between annual salary and various customer attributes (e.g. age). These attributes could be those that are readily available in the data (e.g. age) or those that you construct or derive yourself (e.g. those relating to purchasing behaviour). Visualise any interesting correlations using a scatter plot.\n",
        "\n",
        "*   Build a simple regression model to predict the annual salary for each customer using the attributes you identified above\n",
        "\n",
        "*   How accurate is your model? Should ANZ use it to segment customers (for whom it does not have this data) into income brackets for reporting purposes?\n",
        "\n",
        "*   For a challenge: build a decision-tree based model to predict salary. Does it perform better? How would you accurately test the performance of this model?\n"
      ]
    },
    {
      "cell_type": "markdown",
      "metadata": {
        "id": "ev1TEVVqahpw"
      },
      "source": [
        "**Import libraries**"
      ]
    },
    {
      "cell_type": "code",
      "metadata": {
        "id": "IJLe59uBag90"
      },
      "source": [
        "# Data wrangling \n",
        "import pandas as pd\n",
        "import numpy as np\n",
        "import seaborn as sns\n",
        "import matplotlib.pyplot as plt\n",
        "from statistics import mode\n",
        "\n",
        "# Machine learning\n",
        "from sklearn.model_selection import train_test_split\n",
        "from sklearn.preprocessing import OneHotEncoder, StandardScaler\n",
        "from sklearn.linear_model import LinearRegression\n",
        "from sklearn.tree import DecisionTreeRegressor\n",
        "from sklearn.compose import make_column_transformer\n",
        "from sklearn.pipeline import make_pipeline\n",
        "from sklearn.metrics import mean_squared_error"
      ],
      "execution_count": 18,
      "outputs": []
    },
    {
      "cell_type": "code",
      "metadata": {
        "colab": {
          "base_uri": "https://localhost:8080/"
        },
        "id": "eE9LhVmOas3Q",
        "outputId": "4d54632a-5f3c-484a-b9e9-660bbe576b00"
      },
      "source": [
        "# Connect to the data source, in this case a csv file stored on my G Drive\n",
        "from google.colab import drive\n",
        "drive.mount('/content/gdrive')"
      ],
      "execution_count": 19,
      "outputs": [
        {
          "output_type": "stream",
          "name": "stdout",
          "text": [
            "Drive already mounted at /content/gdrive; to attempt to forcibly remount, call drive.mount(\"/content/gdrive\", force_remount=True).\n"
          ]
        }
      ]
    },
    {
      "cell_type": "markdown",
      "metadata": {
        "id": "_5ptAF4PavkX"
      },
      "source": [
        "# **1. Load data** "
      ]
    },
    {
      "cell_type": "code",
      "metadata": {
        "colab": {
          "base_uri": "https://localhost:8080/",
          "height": 475
        },
        "id": "JJOAbEoVaupY",
        "outputId": "d54780f4-bfc2-4e6d-c6f3-1335bab5cc0f"
      },
      "source": [
        "# Load the data that we have saved from the previous exercise\n",
        "data = pd.read_pickle('/content/gdrive/My Drive/data.pkl')\n",
        "data.head()"
      ],
      "execution_count": 20,
      "outputs": [
        {
          "output_type": "execute_result",
          "data": {
            "text/html": [
              "<div>\n",
              "<style scoped>\n",
              "    .dataframe tbody tr th:only-of-type {\n",
              "        vertical-align: middle;\n",
              "    }\n",
              "\n",
              "    .dataframe tbody tr th {\n",
              "        vertical-align: top;\n",
              "    }\n",
              "\n",
              "    .dataframe thead th {\n",
              "        text-align: right;\n",
              "    }\n",
              "</style>\n",
              "<table border=\"1\" class=\"dataframe\">\n",
              "  <thead>\n",
              "    <tr style=\"text-align: right;\">\n",
              "      <th></th>\n",
              "      <th>status</th>\n",
              "      <th>card_present_flag</th>\n",
              "      <th>account</th>\n",
              "      <th>long_lat</th>\n",
              "      <th>txn_description</th>\n",
              "      <th>merchant_id</th>\n",
              "      <th>first_name</th>\n",
              "      <th>balance</th>\n",
              "      <th>date</th>\n",
              "      <th>gender</th>\n",
              "      <th>age</th>\n",
              "      <th>merchant_suburb</th>\n",
              "      <th>merchant_state</th>\n",
              "      <th>extraction</th>\n",
              "      <th>amount</th>\n",
              "      <th>transaction_id</th>\n",
              "      <th>customer_id</th>\n",
              "      <th>merchant_long_lat</th>\n",
              "      <th>movement</th>\n",
              "      <th>month</th>\n",
              "      <th>dayofweek</th>\n",
              "      <th>hour</th>\n",
              "      <th>category</th>\n",
              "    </tr>\n",
              "  </thead>\n",
              "  <tbody>\n",
              "    <tr>\n",
              "      <th>0</th>\n",
              "      <td>authorized</td>\n",
              "      <td>1</td>\n",
              "      <td>ACC-1598451071</td>\n",
              "      <td>153.41 -27.95</td>\n",
              "      <td>POS</td>\n",
              "      <td>81c48296-73be-44a7-befa-d053f48ce7cd</td>\n",
              "      <td>Diana</td>\n",
              "      <td>35.39</td>\n",
              "      <td>2018-08-01</td>\n",
              "      <td>F</td>\n",
              "      <td>26</td>\n",
              "      <td>Ashmore</td>\n",
              "      <td>QLD</td>\n",
              "      <td>2018-08-01T01:01:15.000+0000</td>\n",
              "      <td>16.25</td>\n",
              "      <td>a623070bfead4541a6b0fff8a09e706c</td>\n",
              "      <td>CUS-2487424745</td>\n",
              "      <td>153.38 -27.99</td>\n",
              "      <td>debit</td>\n",
              "      <td>8</td>\n",
              "      <td>2</td>\n",
              "      <td>2018-08-01T01</td>\n",
              "      <td>Purchase</td>\n",
              "    </tr>\n",
              "    <tr>\n",
              "      <th>1</th>\n",
              "      <td>authorized</td>\n",
              "      <td>0</td>\n",
              "      <td>ACC-1598451071</td>\n",
              "      <td>153.41 -27.95</td>\n",
              "      <td>SALES-POS</td>\n",
              "      <td>830a451c-316e-4a6a-bf25-e37caedca49e</td>\n",
              "      <td>Diana</td>\n",
              "      <td>21.20</td>\n",
              "      <td>2018-08-01</td>\n",
              "      <td>F</td>\n",
              "      <td>26</td>\n",
              "      <td>Sydney</td>\n",
              "      <td>NSW</td>\n",
              "      <td>2018-08-01T01:13:45.000+0000</td>\n",
              "      <td>14.19</td>\n",
              "      <td>13270a2a902145da9db4c951e04b51b9</td>\n",
              "      <td>CUS-2487424745</td>\n",
              "      <td>151.21 -33.87</td>\n",
              "      <td>debit</td>\n",
              "      <td>8</td>\n",
              "      <td>2</td>\n",
              "      <td>2018-08-01T01</td>\n",
              "      <td>Purchase</td>\n",
              "    </tr>\n",
              "    <tr>\n",
              "      <th>2</th>\n",
              "      <td>authorized</td>\n",
              "      <td>1</td>\n",
              "      <td>ACC-1222300524</td>\n",
              "      <td>151.23 -33.94</td>\n",
              "      <td>POS</td>\n",
              "      <td>835c231d-8cdf-4e96-859d-e9d571760cf0</td>\n",
              "      <td>Michael</td>\n",
              "      <td>5.71</td>\n",
              "      <td>2018-08-01</td>\n",
              "      <td>M</td>\n",
              "      <td>38</td>\n",
              "      <td>Sydney</td>\n",
              "      <td>NSW</td>\n",
              "      <td>2018-08-01T01:26:15.000+0000</td>\n",
              "      <td>6.42</td>\n",
              "      <td>feb79e7ecd7048a5a36ec889d1a94270</td>\n",
              "      <td>CUS-2142601169</td>\n",
              "      <td>151.21 -33.87</td>\n",
              "      <td>debit</td>\n",
              "      <td>8</td>\n",
              "      <td>2</td>\n",
              "      <td>2018-08-01T01</td>\n",
              "      <td>Purchase</td>\n",
              "    </tr>\n",
              "    <tr>\n",
              "      <th>3</th>\n",
              "      <td>authorized</td>\n",
              "      <td>1</td>\n",
              "      <td>ACC-1037050564</td>\n",
              "      <td>153.10 -27.66</td>\n",
              "      <td>SALES-POS</td>\n",
              "      <td>48514682-c78a-4a88-b0da-2d6302e64673</td>\n",
              "      <td>Rhonda</td>\n",
              "      <td>2117.22</td>\n",
              "      <td>2018-08-01</td>\n",
              "      <td>F</td>\n",
              "      <td>40</td>\n",
              "      <td>Buderim</td>\n",
              "      <td>QLD</td>\n",
              "      <td>2018-08-01T01:38:45.000+0000</td>\n",
              "      <td>40.90</td>\n",
              "      <td>2698170da3704fd981b15e64a006079e</td>\n",
              "      <td>CUS-1614226872</td>\n",
              "      <td>153.05 -26.68</td>\n",
              "      <td>debit</td>\n",
              "      <td>8</td>\n",
              "      <td>2</td>\n",
              "      <td>2018-08-01T01</td>\n",
              "      <td>Purchase</td>\n",
              "    </tr>\n",
              "    <tr>\n",
              "      <th>4</th>\n",
              "      <td>authorized</td>\n",
              "      <td>1</td>\n",
              "      <td>ACC-1598451071</td>\n",
              "      <td>153.41 -27.95</td>\n",
              "      <td>SALES-POS</td>\n",
              "      <td>b4e02c10-0852-4273-b8fd-7b3395e32eb0</td>\n",
              "      <td>Diana</td>\n",
              "      <td>17.95</td>\n",
              "      <td>2018-08-01</td>\n",
              "      <td>F</td>\n",
              "      <td>26</td>\n",
              "      <td>Mermaid Beach</td>\n",
              "      <td>QLD</td>\n",
              "      <td>2018-08-01T01:51:15.000+0000</td>\n",
              "      <td>3.25</td>\n",
              "      <td>329adf79878c4cf0aeb4188b4691c266</td>\n",
              "      <td>CUS-2487424745</td>\n",
              "      <td>153.44 -28.06</td>\n",
              "      <td>debit</td>\n",
              "      <td>8</td>\n",
              "      <td>2</td>\n",
              "      <td>2018-08-01T01</td>\n",
              "      <td>Purchase</td>\n",
              "    </tr>\n",
              "  </tbody>\n",
              "</table>\n",
              "</div>"
            ],
            "text/plain": [
              "       status card_present_flag  ...           hour  category\n",
              "0  authorized                 1  ...  2018-08-01T01  Purchase\n",
              "1  authorized                 0  ...  2018-08-01T01  Purchase\n",
              "2  authorized                 1  ...  2018-08-01T01  Purchase\n",
              "3  authorized                 1  ...  2018-08-01T01  Purchase\n",
              "4  authorized                 1  ...  2018-08-01T01  Purchase\n",
              "\n",
              "[5 rows x 23 columns]"
            ]
          },
          "metadata": {},
          "execution_count": 20
        }
      ]
    },
    {
      "cell_type": "code",
      "metadata": {
        "colab": {
          "base_uri": "https://localhost:8080/",
          "height": 758
        },
        "id": "A7BRwQ8he0Wa",
        "outputId": "566eacb4-f57d-4762-aaf7-77da6e12075c"
      },
      "source": [
        "# Dataframe columns \n",
        "pd.DataFrame({\"Columns\": data.columns})"
      ],
      "execution_count": 21,
      "outputs": [
        {
          "output_type": "execute_result",
          "data": {
            "text/html": [
              "<div>\n",
              "<style scoped>\n",
              "    .dataframe tbody tr th:only-of-type {\n",
              "        vertical-align: middle;\n",
              "    }\n",
              "\n",
              "    .dataframe tbody tr th {\n",
              "        vertical-align: top;\n",
              "    }\n",
              "\n",
              "    .dataframe thead th {\n",
              "        text-align: right;\n",
              "    }\n",
              "</style>\n",
              "<table border=\"1\" class=\"dataframe\">\n",
              "  <thead>\n",
              "    <tr style=\"text-align: right;\">\n",
              "      <th></th>\n",
              "      <th>Columns</th>\n",
              "    </tr>\n",
              "  </thead>\n",
              "  <tbody>\n",
              "    <tr>\n",
              "      <th>0</th>\n",
              "      <td>status</td>\n",
              "    </tr>\n",
              "    <tr>\n",
              "      <th>1</th>\n",
              "      <td>card_present_flag</td>\n",
              "    </tr>\n",
              "    <tr>\n",
              "      <th>2</th>\n",
              "      <td>account</td>\n",
              "    </tr>\n",
              "    <tr>\n",
              "      <th>3</th>\n",
              "      <td>long_lat</td>\n",
              "    </tr>\n",
              "    <tr>\n",
              "      <th>4</th>\n",
              "      <td>txn_description</td>\n",
              "    </tr>\n",
              "    <tr>\n",
              "      <th>5</th>\n",
              "      <td>merchant_id</td>\n",
              "    </tr>\n",
              "    <tr>\n",
              "      <th>6</th>\n",
              "      <td>first_name</td>\n",
              "    </tr>\n",
              "    <tr>\n",
              "      <th>7</th>\n",
              "      <td>balance</td>\n",
              "    </tr>\n",
              "    <tr>\n",
              "      <th>8</th>\n",
              "      <td>date</td>\n",
              "    </tr>\n",
              "    <tr>\n",
              "      <th>9</th>\n",
              "      <td>gender</td>\n",
              "    </tr>\n",
              "    <tr>\n",
              "      <th>10</th>\n",
              "      <td>age</td>\n",
              "    </tr>\n",
              "    <tr>\n",
              "      <th>11</th>\n",
              "      <td>merchant_suburb</td>\n",
              "    </tr>\n",
              "    <tr>\n",
              "      <th>12</th>\n",
              "      <td>merchant_state</td>\n",
              "    </tr>\n",
              "    <tr>\n",
              "      <th>13</th>\n",
              "      <td>extraction</td>\n",
              "    </tr>\n",
              "    <tr>\n",
              "      <th>14</th>\n",
              "      <td>amount</td>\n",
              "    </tr>\n",
              "    <tr>\n",
              "      <th>15</th>\n",
              "      <td>transaction_id</td>\n",
              "    </tr>\n",
              "    <tr>\n",
              "      <th>16</th>\n",
              "      <td>customer_id</td>\n",
              "    </tr>\n",
              "    <tr>\n",
              "      <th>17</th>\n",
              "      <td>merchant_long_lat</td>\n",
              "    </tr>\n",
              "    <tr>\n",
              "      <th>18</th>\n",
              "      <td>movement</td>\n",
              "    </tr>\n",
              "    <tr>\n",
              "      <th>19</th>\n",
              "      <td>month</td>\n",
              "    </tr>\n",
              "    <tr>\n",
              "      <th>20</th>\n",
              "      <td>dayofweek</td>\n",
              "    </tr>\n",
              "    <tr>\n",
              "      <th>21</th>\n",
              "      <td>hour</td>\n",
              "    </tr>\n",
              "    <tr>\n",
              "      <th>22</th>\n",
              "      <td>category</td>\n",
              "    </tr>\n",
              "  </tbody>\n",
              "</table>\n",
              "</div>"
            ],
            "text/plain": [
              "              Columns\n",
              "0              status\n",
              "1   card_present_flag\n",
              "2             account\n",
              "3            long_lat\n",
              "4     txn_description\n",
              "5         merchant_id\n",
              "6          first_name\n",
              "7             balance\n",
              "8                date\n",
              "9              gender\n",
              "10                age\n",
              "11    merchant_suburb\n",
              "12     merchant_state\n",
              "13         extraction\n",
              "14             amount\n",
              "15     transaction_id\n",
              "16        customer_id\n",
              "17  merchant_long_lat\n",
              "18           movement\n",
              "19              month\n",
              "20          dayofweek\n",
              "21               hour\n",
              "22           category"
            ]
          },
          "metadata": {},
          "execution_count": 21
        }
      ]
    },
    {
      "cell_type": "markdown",
      "metadata": {
        "id": "9DMxiPZCe6NC"
      },
      "source": [
        "# **2. Feature engineering**"
      ]
    },
    {
      "cell_type": "markdown",
      "metadata": {
        "id": "01EK-LalfIQh"
      },
      "source": [
        "In order to model annual salary, we need to compute the annual salary for each customer as well as create features that can help us predict those salaries.\n",
        "\n",
        "## **2.1. Target variable (customers' annual salary)**\n",
        "\n",
        "A target variable, or sometimes called a response variable, is the variable that we are trying to predict and in our case, this is the annual salary for each customer."
      ]
    },
    {
      "cell_type": "code",
      "metadata": {
        "colab": {
          "base_uri": "https://localhost:8080/",
          "height": 203
        },
        "id": "yNcnahRcfShC",
        "outputId": "6c1cc5bd-4c77-4798-8953-85aff3ee63a8"
      },
      "source": [
        "# Check the salary payment frequency of each customer\n",
        "salary_df = pd.DataFrame({\"customer_id\": data.customer_id.unique()})\n",
        "salary_df.head()"
      ],
      "execution_count": 22,
      "outputs": [
        {
          "output_type": "execute_result",
          "data": {
            "text/html": [
              "<div>\n",
              "<style scoped>\n",
              "    .dataframe tbody tr th:only-of-type {\n",
              "        vertical-align: middle;\n",
              "    }\n",
              "\n",
              "    .dataframe tbody tr th {\n",
              "        vertical-align: top;\n",
              "    }\n",
              "\n",
              "    .dataframe thead th {\n",
              "        text-align: right;\n",
              "    }\n",
              "</style>\n",
              "<table border=\"1\" class=\"dataframe\">\n",
              "  <thead>\n",
              "    <tr style=\"text-align: right;\">\n",
              "      <th></th>\n",
              "      <th>customer_id</th>\n",
              "    </tr>\n",
              "  </thead>\n",
              "  <tbody>\n",
              "    <tr>\n",
              "      <th>0</th>\n",
              "      <td>CUS-2487424745</td>\n",
              "    </tr>\n",
              "    <tr>\n",
              "      <th>1</th>\n",
              "      <td>CUS-2142601169</td>\n",
              "    </tr>\n",
              "    <tr>\n",
              "      <th>2</th>\n",
              "      <td>CUS-1614226872</td>\n",
              "    </tr>\n",
              "    <tr>\n",
              "      <th>3</th>\n",
              "      <td>CUS-2688605418</td>\n",
              "    </tr>\n",
              "    <tr>\n",
              "      <th>4</th>\n",
              "      <td>CUS-4123612273</td>\n",
              "    </tr>\n",
              "  </tbody>\n",
              "</table>\n",
              "</div>"
            ],
            "text/plain": [
              "      customer_id\n",
              "0  CUS-2487424745\n",
              "1  CUS-2142601169\n",
              "2  CUS-1614226872\n",
              "3  CUS-2688605418\n",
              "4  CUS-4123612273"
            ]
          },
          "metadata": {},
          "execution_count": 22
        }
      ]
    },
    {
      "cell_type": "code",
      "metadata": {
        "colab": {
          "base_uri": "https://localhost:8080/",
          "height": 480
        },
        "id": "Rap4jYfbfUzB",
        "outputId": "529e9544-f092-41f7-b17c-033a077d7723"
      },
      "source": [
        "example = data.loc[(data.customer_id == salary_df.customer_id[0]) & (data.txn_description == \"PAY/SALARY\"), [\"date\", \"amount\"]].groupby(\"date\", as_index = False).sum()\n",
        "example"
      ],
      "execution_count": 23,
      "outputs": [
        {
          "output_type": "execute_result",
          "data": {
            "text/html": [
              "<div>\n",
              "<style scoped>\n",
              "    .dataframe tbody tr th:only-of-type {\n",
              "        vertical-align: middle;\n",
              "    }\n",
              "\n",
              "    .dataframe tbody tr th {\n",
              "        vertical-align: top;\n",
              "    }\n",
              "\n",
              "    .dataframe thead th {\n",
              "        text-align: right;\n",
              "    }\n",
              "</style>\n",
              "<table border=\"1\" class=\"dataframe\">\n",
              "  <thead>\n",
              "    <tr style=\"text-align: right;\">\n",
              "      <th></th>\n",
              "      <th>date</th>\n",
              "      <th>amount</th>\n",
              "    </tr>\n",
              "  </thead>\n",
              "  <tbody>\n",
              "    <tr>\n",
              "      <th>0</th>\n",
              "      <td>2018-08-01</td>\n",
              "      <td>1013.67</td>\n",
              "    </tr>\n",
              "    <tr>\n",
              "      <th>1</th>\n",
              "      <td>2018-08-08</td>\n",
              "      <td>1013.67</td>\n",
              "    </tr>\n",
              "    <tr>\n",
              "      <th>2</th>\n",
              "      <td>2018-08-15</td>\n",
              "      <td>1013.67</td>\n",
              "    </tr>\n",
              "    <tr>\n",
              "      <th>3</th>\n",
              "      <td>2018-08-22</td>\n",
              "      <td>1013.67</td>\n",
              "    </tr>\n",
              "    <tr>\n",
              "      <th>4</th>\n",
              "      <td>2018-08-29</td>\n",
              "      <td>1013.67</td>\n",
              "    </tr>\n",
              "    <tr>\n",
              "      <th>5</th>\n",
              "      <td>2018-09-05</td>\n",
              "      <td>1013.67</td>\n",
              "    </tr>\n",
              "    <tr>\n",
              "      <th>6</th>\n",
              "      <td>2018-09-12</td>\n",
              "      <td>1013.67</td>\n",
              "    </tr>\n",
              "    <tr>\n",
              "      <th>7</th>\n",
              "      <td>2018-09-19</td>\n",
              "      <td>1013.67</td>\n",
              "    </tr>\n",
              "    <tr>\n",
              "      <th>8</th>\n",
              "      <td>2018-09-26</td>\n",
              "      <td>1013.67</td>\n",
              "    </tr>\n",
              "    <tr>\n",
              "      <th>9</th>\n",
              "      <td>2018-10-03</td>\n",
              "      <td>1013.67</td>\n",
              "    </tr>\n",
              "    <tr>\n",
              "      <th>10</th>\n",
              "      <td>2018-10-10</td>\n",
              "      <td>1013.67</td>\n",
              "    </tr>\n",
              "    <tr>\n",
              "      <th>11</th>\n",
              "      <td>2018-10-17</td>\n",
              "      <td>1013.67</td>\n",
              "    </tr>\n",
              "    <tr>\n",
              "      <th>12</th>\n",
              "      <td>2018-10-24</td>\n",
              "      <td>1013.67</td>\n",
              "    </tr>\n",
              "    <tr>\n",
              "      <th>13</th>\n",
              "      <td>2018-10-31</td>\n",
              "      <td>1013.67</td>\n",
              "    </tr>\n",
              "  </tbody>\n",
              "</table>\n",
              "</div>"
            ],
            "text/plain": [
              "         date   amount\n",
              "0  2018-08-01  1013.67\n",
              "1  2018-08-08  1013.67\n",
              "2  2018-08-15  1013.67\n",
              "3  2018-08-22  1013.67\n",
              "4  2018-08-29  1013.67\n",
              "5  2018-09-05  1013.67\n",
              "6  2018-09-12  1013.67\n",
              "7  2018-09-19  1013.67\n",
              "8  2018-09-26  1013.67\n",
              "9  2018-10-03  1013.67\n",
              "10 2018-10-10  1013.67\n",
              "11 2018-10-17  1013.67\n",
              "12 2018-10-24  1013.67\n",
              "13 2018-10-31  1013.67"
            ]
          },
          "metadata": {},
          "execution_count": 23
        }
      ]
    },
    {
      "cell_type": "markdown",
      "metadata": {
        "id": "IcbhXlFDgWrE"
      },
      "source": [
        "There were multiple mode values for days_between_payments, but we take the maximum."
      ]
    },
    {
      "cell_type": "code",
      "metadata": {
        "colab": {
          "base_uri": "https://localhost:8080/",
          "height": 203
        },
        "id": "4n6IW96-rMjO",
        "outputId": "9f73525a-1c75-4182-d4a7-c0188c324640"
      },
      "source": [
        "# Loop through all salary payments for each customer\n",
        "# Assume the salary level is constant for each customer over the observed period\n",
        "df_freq = []\n",
        "df_amount = []\n",
        "\n",
        "for customer in range(len(salary_df)):\n",
        "    salary = data.loc[(data.customer_id == salary_df.customer_id[customer]) & (data.txn_description == \"PAY/SALARY\"), [\"date\", \"amount\"]].groupby(\"date\", as_index = False).sum()\n",
        "    count = len(salary)\n",
        "    if count == 0:\n",
        "        df_amount.append(np.nan)\n",
        "        df_freq.append(np.nan)\n",
        "    else:\n",
        "        days_between_payments = []\n",
        "        for date in range(len(salary)-1):\n",
        "            days_between_payments.append((salary.date[date + 1] - salary.date[date]).days)\n",
        "        df_freq.append(max(days_between_payments))\n",
        "        df_amount.append(mode(salary.amount))\n",
        "\n",
        "salary_df[\"salary_freq\"] = df_freq\n",
        "salary_df[\"salary_amount\"] = df_amount       \n",
        "salary_df[\"annual_salary\"] = salary_df[\"salary_amount\"] / salary_df[\"salary_freq\"] * 365.25\n",
        "salary_df.head()"
      ],
      "execution_count": 24,
      "outputs": [
        {
          "output_type": "execute_result",
          "data": {
            "text/html": [
              "<div>\n",
              "<style scoped>\n",
              "    .dataframe tbody tr th:only-of-type {\n",
              "        vertical-align: middle;\n",
              "    }\n",
              "\n",
              "    .dataframe tbody tr th {\n",
              "        vertical-align: top;\n",
              "    }\n",
              "\n",
              "    .dataframe thead th {\n",
              "        text-align: right;\n",
              "    }\n",
              "</style>\n",
              "<table border=\"1\" class=\"dataframe\">\n",
              "  <thead>\n",
              "    <tr style=\"text-align: right;\">\n",
              "      <th></th>\n",
              "      <th>customer_id</th>\n",
              "      <th>salary_freq</th>\n",
              "      <th>salary_amount</th>\n",
              "      <th>annual_salary</th>\n",
              "    </tr>\n",
              "  </thead>\n",
              "  <tbody>\n",
              "    <tr>\n",
              "      <th>0</th>\n",
              "      <td>CUS-2487424745</td>\n",
              "      <td>7</td>\n",
              "      <td>1013.67</td>\n",
              "      <td>52891.852500</td>\n",
              "    </tr>\n",
              "    <tr>\n",
              "      <th>1</th>\n",
              "      <td>CUS-2142601169</td>\n",
              "      <td>7</td>\n",
              "      <td>1002.13</td>\n",
              "      <td>52289.711786</td>\n",
              "    </tr>\n",
              "    <tr>\n",
              "      <th>2</th>\n",
              "      <td>CUS-1614226872</td>\n",
              "      <td>7</td>\n",
              "      <td>892.09</td>\n",
              "      <td>46547.981786</td>\n",
              "    </tr>\n",
              "    <tr>\n",
              "      <th>3</th>\n",
              "      <td>CUS-2688605418</td>\n",
              "      <td>14</td>\n",
              "      <td>2320.30</td>\n",
              "      <td>60534.969643</td>\n",
              "    </tr>\n",
              "    <tr>\n",
              "      <th>4</th>\n",
              "      <td>CUS-4123612273</td>\n",
              "      <td>7</td>\n",
              "      <td>1068.04</td>\n",
              "      <td>55728.801429</td>\n",
              "    </tr>\n",
              "  </tbody>\n",
              "</table>\n",
              "</div>"
            ],
            "text/plain": [
              "      customer_id  salary_freq  salary_amount  annual_salary\n",
              "0  CUS-2487424745            7        1013.67   52891.852500\n",
              "1  CUS-2142601169            7        1002.13   52289.711786\n",
              "2  CUS-1614226872            7         892.09   46547.981786\n",
              "3  CUS-2688605418           14        2320.30   60534.969643\n",
              "4  CUS-4123612273            7        1068.04   55728.801429"
            ]
          },
          "metadata": {},
          "execution_count": 24
        }
      ]
    },
    {
      "cell_type": "code",
      "metadata": {
        "colab": {
          "base_uri": "https://localhost:8080/",
          "height": 372
        },
        "id": "y3SEnfJYgY9C",
        "outputId": "7ab0c9e2-c0d0-4757-c5af-8e41a9f8dd50"
      },
      "source": [
        "# Plot customer's annual salary distribution \n",
        "plt.figure(figsize = (10, 5))\n",
        "sns.distplot(salary_df.annual_salary)\n",
        "plt.title(\"Distribution of customers' annual salary\")\n",
        "plt.xlabel(\"Annual salary\")"
      ],
      "execution_count": 25,
      "outputs": [
        {
          "output_type": "execute_result",
          "data": {
            "text/plain": [
              "Text(0.5, 0, 'Annual salary')"
            ]
          },
          "metadata": {},
          "execution_count": 25
        },
        {
          "output_type": "display_data",
          "data": {
            "image/png": "[encoded data removed]",
            "text/plain": [
              "<Figure size 720x360 with 1 Axes>"
            ]
          },
          "metadata": {}
        }
      ]
    },
    {
      "cell_type": "markdown",
      "metadata": {
        "id": "syoC7ATSgccy"
      },
      "source": [
        "## **2.2. Predictor variables**\n",
        "\n",
        "Predictor variables or features are variables that will help us predict the salaries for each customer.\n",
        "\n",
        "In this section, we will create the following features each customer:\n",
        "\n",
        "*   Average number of weekly transactions\n",
        "*   Maximum transaction amount\n",
        "*   Number of large transactions (over $100)\n",
        "*   Number of days with transactions\n",
        "*   Average transaction amount\n",
        "*   Median balance\n",
        "*   State of residence\n",
        "\n",
        "From our original dataframe:\n",
        "\n",
        "*   Age\n",
        "*   Gender\n"
      ]
    },
    {
      "cell_type": "code",
      "metadata": {
        "colab": {
          "base_uri": "https://localhost:8080/"
        },
        "id": "gIbbBa4tgpFh",
        "outputId": "fe945aac-4903-446f-f2a5-499d0b050c61"
      },
      "source": [
        "# Unique customer id's \n",
        "unique_id = data.customer_id.unique()\n",
        "len(unique_id)"
      ],
      "execution_count": 26,
      "outputs": [
        {
          "output_type": "execute_result",
          "data": {
            "text/plain": [
              "100"
            ]
          },
          "metadata": {},
          "execution_count": 26
        }
      ]
    },
    {
      "cell_type": "code",
      "metadata": {
        "colab": {
          "base_uri": "https://localhost:8080/"
        },
        "id": "5y7jS4BUgvgQ",
        "outputId": "5224eb54-4508-4d1b-b973-eadafc25cfcf"
      },
      "source": [
        "unique_id[:5]"
      ],
      "execution_count": 27,
      "outputs": [
        {
          "output_type": "execute_result",
          "data": {
            "text/plain": [
              "array(['CUS-2487424745', 'CUS-2142601169', 'CUS-1614226872',\n",
              "       'CUS-2688605418', 'CUS-4123612273'], dtype=object)"
            ]
          },
          "metadata": {},
          "execution_count": 27
        }
      ]
    },
    {
      "cell_type": "markdown",
      "metadata": {
        "id": "crNIJRfYgwCB"
      },
      "source": [
        "### **2.2.1. Average number of weekly transactions**"
      ]
    },
    {
      "cell_type": "code",
      "metadata": {
        "colab": {
          "base_uri": "https://localhost:8080/"
        },
        "id": "BkVdTC_Eg5oR",
        "outputId": "e9632b80-7a8b-43bb-873e-92334682752a"
      },
      "source": [
        "avg_no_weekly_trans = []\n",
        "for id_ in unique_id:\n",
        "    array = data.loc[data.customer_id == id_, \"date\"]\n",
        "    avg_no_weekly_trans.append(round(len(array)/array.nunique()*7))\n",
        "avg_no_weekly_trans[:5]"
      ],
      "execution_count": 29,
      "outputs": [
        {
          "output_type": "execute_result",
          "data": {
            "text/plain": [
              "[48, 29, 24, 14, 21]"
            ]
          },
          "metadata": {},
          "execution_count": 29
        }
      ]
    },
    {
      "cell_type": "markdown",
      "metadata": {
        "id": "Q3oOHHj9g7e6"
      },
      "source": [
        "### **2.2.2. Maximum amount**"
      ]
    },
    {
      "cell_type": "code",
      "metadata": {
        "colab": {
          "base_uri": "https://localhost:8080/"
        },
        "id": "3AOVoTzHhBHJ",
        "outputId": "79b585f4-f75c-4f80-a25e-c1760cd077fe"
      },
      "source": [
        "max_amount = []\n",
        "for id_ in unique_id:\n",
        "    array = data.loc[data.customer_id == id_, \"amount\"]\n",
        "    max_amount.append(max(array))\n",
        "max_amount[:5]"
      ],
      "execution_count": 30,
      "outputs": [
        {
          "output_type": "execute_result",
          "data": {
            "text/plain": [
              "[1452.21, 2349.55, 892.09, 2320.3, 1068.04]"
            ]
          },
          "metadata": {},
          "execution_count": 30
        }
      ]
    },
    {
      "cell_type": "markdown",
      "metadata": {
        "id": "qDWmEqamhCg5"
      },
      "source": [
        "### **2.2.3. Number of large transactions**"
      ]
    },
    {
      "cell_type": "code",
      "metadata": {
        "colab": {
          "base_uri": "https://localhost:8080/"
        },
        "id": "Xo-Uts3WhIUl",
        "outputId": "6fbb0205-2a08-47f4-b554-c719776af831"
      },
      "source": [
        "no_large_trans = []\n",
        "for id_ in unique_id:\n",
        "    count = 0\n",
        "    array = data.loc[data.customer_id == id_, \"amount\"]\n",
        "    for amount in array:\n",
        "        if amount > 100:\n",
        "            count += 1\n",
        "    no_large_trans.append(count)\n",
        "no_large_trans[:5]"
      ],
      "execution_count": 31,
      "outputs": [
        {
          "output_type": "execute_result",
          "data": {
            "text/plain": [
              "[22, 23, 22, 25, 32]"
            ]
          },
          "metadata": {},
          "execution_count": 31
        }
      ]
    },
    {
      "cell_type": "markdown",
      "metadata": {
        "id": "vqtkZuJFhI8C"
      },
      "source": [
        "### **2.2.4. Number of days with transactions**"
      ]
    },
    {
      "cell_type": "code",
      "metadata": {
        "colab": {
          "base_uri": "https://localhost:8080/"
        },
        "id": "UOrJMcLrhNX2",
        "outputId": "6fabf941-3f0d-4ef0-a1aa-d0675c3115e2"
      },
      "source": [
        "no_days_with_trans = []\n",
        "for id_ in unique_id:\n",
        "    array = data.loc[data.customer_id == id_, \"date\"]\n",
        "    no_days_with_trans.append(array.nunique())\n",
        "no_days_with_trans[:5]"
      ],
      "execution_count": 32,
      "outputs": [
        {
          "output_type": "execute_result",
          "data": {
            "text/plain": [
              "[85, 74, 76, 63, 44]"
            ]
          },
          "metadata": {},
          "execution_count": 32
        }
      ]
    },
    {
      "cell_type": "markdown",
      "metadata": {
        "id": "PRg5ZOljhN96"
      },
      "source": [
        "### **2.2.5. Average transaction amount**"
      ]
    },
    {
      "cell_type": "code",
      "metadata": {
        "colab": {
          "base_uri": "https://localhost:8080/"
        },
        "id": "OnusrZm2hU8p",
        "outputId": "7b1fe8ac-54c9-45fd-a7f3-d0510fd97792"
      },
      "source": [
        "avg_trans_amount = []\n",
        "for id_ in unique_id:\n",
        "    array = data.loc[data.customer_id == id_, \"amount\"]\n",
        "    avg_trans_amount.append(array.mean())\n",
        "avg_trans_amount[:5]"
      ],
      "execution_count": 33,
      "outputs": [
        {
          "output_type": "execute_result",
          "data": {
            "text/plain": [
              "[45.34877162629756,\n",
              " 78.20610561056101,\n",
              " 74.46501930501928,\n",
              " 159.3041860465116,\n",
              " 166.50835820895517]"
            ]
          },
          "metadata": {},
          "execution_count": 33
        }
      ]
    },
    {
      "cell_type": "markdown",
      "metadata": {
        "id": "59EfWRSihVfa"
      },
      "source": [
        "### **2.2.6. Median balance**"
      ]
    },
    {
      "cell_type": "code",
      "metadata": {
        "colab": {
          "base_uri": "https://localhost:8080/"
        },
        "id": "o_AyEjJzhZbB",
        "outputId": "f977b12b-31f2-4c26-c653-7346f983c1d5"
      },
      "source": [
        "median_balance = []\n",
        "for id_ in unique_id:\n",
        "    array = data.loc[data.customer_id == id_, \"balance\"]\n",
        "    median_balance.append(array.median())\n",
        "median_balance[:5]"
      ],
      "execution_count": 34,
      "outputs": [
        {
          "output_type": "execute_result",
          "data": {
            "text/plain": [
              "[1580.4, 1132.66, 3618.5, 5616.63, 6162.45]"
            ]
          },
          "metadata": {},
          "execution_count": 34
        }
      ]
    },
    {
      "cell_type": "markdown",
      "metadata": {
        "id": "V4h51VXFhbnC"
      },
      "source": [
        "### **2.2.7. State of residence**"
      ]
    },
    {
      "cell_type": "code",
      "metadata": {
        "colab": {
          "base_uri": "https://localhost:8080/"
        },
        "id": "lnVXO9tdhjYJ",
        "outputId": "8652bd43-9ced-439e-c625-a0fdb15da240"
      },
      "source": [
        "# Assume customers live in the state where most of their transactions occured\n",
        "state = []\n",
        "for id_ in unique_id:\n",
        "    array = data.loc[data.customer_id == id_, \"merchant_state\"]\n",
        "    state.append(mode(array))\n",
        "state[:5]"
      ],
      "execution_count": 35,
      "outputs": [
        {
          "output_type": "execute_result",
          "data": {
            "text/plain": [
              "['QLD', 'NSW', 'QLD', 'NSW', 'VIC']"
            ]
          },
          "metadata": {},
          "execution_count": 35
        }
      ]
    },
    {
      "cell_type": "markdown",
      "metadata": {
        "id": "Ua7lZ8yChlAh"
      },
      "source": [
        "### **2.2.8. Include age and gender from original dataframe**"
      ]
    },
    {
      "cell_type": "code",
      "metadata": {
        "colab": {
          "base_uri": "https://localhost:8080/"
        },
        "id": "ZE_nYfn1hqB5",
        "outputId": "dee5d7f5-bfb1-4318-898e-b795145a3734"
      },
      "source": [
        "age = []\n",
        "for id_ in unique_id:\n",
        "    array = data.loc[data.customer_id == id_, \"age\"]\n",
        "    age.append(mode(array))\n",
        "age[:5]"
      ],
      "execution_count": 36,
      "outputs": [
        {
          "output_type": "execute_result",
          "data": {
            "text/plain": [
              "[26, 38, 40, 20, 43]"
            ]
          },
          "metadata": {},
          "execution_count": 36
        }
      ]
    },
    {
      "cell_type": "code",
      "metadata": {
        "colab": {
          "base_uri": "https://localhost:8080/"
        },
        "id": "z20lTaGahrTh",
        "outputId": "704aa40e-6d2d-4c74-d12b-6f371ca2e975"
      },
      "source": [
        "gender = []\n",
        "for id_ in unique_id:\n",
        "    array = data.loc[data.customer_id == id_, \"gender\"]\n",
        "    gender.append(mode(array))\n",
        "gender[:5]"
      ],
      "execution_count": 37,
      "outputs": [
        {
          "output_type": "execute_result",
          "data": {
            "text/plain": [
              "['F', 'M', 'F', 'M', 'F']"
            ]
          },
          "metadata": {},
          "execution_count": 37
        }
      ]
    },
    {
      "cell_type": "markdown",
      "metadata": {
        "id": "p5N8399Ohtw7"
      },
      "source": [
        "### **2.2.9. Putting everything together**\n",
        "Here, we will put together all the features that we have created into a dataframe called features_df and subsequently concatenate the annual salary for each customer to form a final dataframe called df."
      ]
    },
    {
      "cell_type": "code",
      "metadata": {
        "colab": {
          "base_uri": "https://localhost:8080/",
          "height": 203
        },
        "id": "76a8pc6phyrR",
        "outputId": "bc439a54-b4a2-4ba1-a4d6-a525edc8d5d6"
      },
      "source": [
        "# Predictor variables \n",
        "features_df = pd.DataFrame({\"customer_id\": unique_id, \n",
        "                            \"avg_no_weekly_trans\": avg_no_weekly_trans, \n",
        "                            \"max_amount\": max_amount, \n",
        "                            \"no_large_trans\": no_large_trans,\n",
        "                            \"avg_trans_amount\": avg_trans_amount,\n",
        "                            \"median_balance\": median_balance, \n",
        "                            \"state\": state,\n",
        "                            \"age\": age,\n",
        "                            \"gender\": gender})\n",
        "features_df.head()"
      ],
      "execution_count": 38,
      "outputs": [
        {
          "output_type": "execute_result",
          "data": {
            "text/html": [
              "<div>\n",
              "<style scoped>\n",
              "    .dataframe tbody tr th:only-of-type {\n",
              "        vertical-align: middle;\n",
              "    }\n",
              "\n",
              "    .dataframe tbody tr th {\n",
              "        vertical-align: top;\n",
              "    }\n",
              "\n",
              "    .dataframe thead th {\n",
              "        text-align: right;\n",
              "    }\n",
              "</style>\n",
              "<table border=\"1\" class=\"dataframe\">\n",
              "  <thead>\n",
              "    <tr style=\"text-align: right;\">\n",
              "      <th></th>\n",
              "      <th>customer_id</th>\n",
              "      <th>avg_no_weekly_trans</th>\n",
              "      <th>max_amount</th>\n",
              "      <th>no_large_trans</th>\n",
              "      <th>avg_trans_amount</th>\n",
              "      <th>median_balance</th>\n",
              "      <th>state</th>\n",
              "      <th>age</th>\n",
              "      <th>gender</th>\n",
              "    </tr>\n",
              "  </thead>\n",
              "  <tbody>\n",
              "    <tr>\n",
              "      <th>0</th>\n",
              "      <td>CUS-2487424745</td>\n",
              "      <td>48</td>\n",
              "      <td>1452.21</td>\n",
              "      <td>22</td>\n",
              "      <td>45.348772</td>\n",
              "      <td>1580.40</td>\n",
              "      <td>QLD</td>\n",
              "      <td>26</td>\n",
              "      <td>F</td>\n",
              "    </tr>\n",
              "    <tr>\n",
              "      <th>1</th>\n",
              "      <td>CUS-2142601169</td>\n",
              "      <td>29</td>\n",
              "      <td>2349.55</td>\n",
              "      <td>23</td>\n",
              "      <td>78.206106</td>\n",
              "      <td>1132.66</td>\n",
              "      <td>NSW</td>\n",
              "      <td>38</td>\n",
              "      <td>M</td>\n",
              "    </tr>\n",
              "    <tr>\n",
              "      <th>2</th>\n",
              "      <td>CUS-1614226872</td>\n",
              "      <td>24</td>\n",
              "      <td>892.09</td>\n",
              "      <td>22</td>\n",
              "      <td>74.465019</td>\n",
              "      <td>3618.50</td>\n",
              "      <td>QLD</td>\n",
              "      <td>40</td>\n",
              "      <td>F</td>\n",
              "    </tr>\n",
              "    <tr>\n",
              "      <th>3</th>\n",
              "      <td>CUS-2688605418</td>\n",
              "      <td>14</td>\n",
              "      <td>2320.30</td>\n",
              "      <td>25</td>\n",
              "      <td>159.304186</td>\n",
              "      <td>5616.63</td>\n",
              "      <td>NSW</td>\n",
              "      <td>20</td>\n",
              "      <td>M</td>\n",
              "    </tr>\n",
              "    <tr>\n",
              "      <th>4</th>\n",
              "      <td>CUS-4123612273</td>\n",
              "      <td>21</td>\n",
              "      <td>1068.04</td>\n",
              "      <td>32</td>\n",
              "      <td>166.508358</td>\n",
              "      <td>6162.45</td>\n",
              "      <td>VIC</td>\n",
              "      <td>43</td>\n",
              "      <td>F</td>\n",
              "    </tr>\n",
              "  </tbody>\n",
              "</table>\n",
              "</div>"
            ],
            "text/plain": [
              "      customer_id  avg_no_weekly_trans  max_amount  ...  state  age  gender\n",
              "0  CUS-2487424745                   48     1452.21  ...    QLD   26       F\n",
              "1  CUS-2142601169                   29     2349.55  ...    NSW   38       M\n",
              "2  CUS-1614226872                   24      892.09  ...    QLD   40       F\n",
              "3  CUS-2688605418                   14     2320.30  ...    NSW   20       M\n",
              "4  CUS-4123612273                   21     1068.04  ...    VIC   43       F\n",
              "\n",
              "[5 rows x 9 columns]"
            ]
          },
          "metadata": {},
          "execution_count": 38
        }
      ]
    },
    {
      "cell_type": "code",
      "metadata": {
        "colab": {
          "base_uri": "https://localhost:8080/",
          "height": 203
        },
        "id": "0Kh8PDrkh47B",
        "outputId": "ffe32445-1148-4a86-cbe5-10beb1c9dacc"
      },
      "source": [
        "# Target variable \n",
        "salary_df.head()"
      ],
      "execution_count": 39,
      "outputs": [
        {
          "output_type": "execute_result",
          "data": {
            "text/html": [
              "<div>\n",
              "<style scoped>\n",
              "    .dataframe tbody tr th:only-of-type {\n",
              "        vertical-align: middle;\n",
              "    }\n",
              "\n",
              "    .dataframe tbody tr th {\n",
              "        vertical-align: top;\n",
              "    }\n",
              "\n",
              "    .dataframe thead th {\n",
              "        text-align: right;\n",
              "    }\n",
              "</style>\n",
              "<table border=\"1\" class=\"dataframe\">\n",
              "  <thead>\n",
              "    <tr style=\"text-align: right;\">\n",
              "      <th></th>\n",
              "      <th>customer_id</th>\n",
              "      <th>salary_freq</th>\n",
              "      <th>salary_amount</th>\n",
              "      <th>annual_salary</th>\n",
              "    </tr>\n",
              "  </thead>\n",
              "  <tbody>\n",
              "    <tr>\n",
              "      <th>0</th>\n",
              "      <td>CUS-2487424745</td>\n",
              "      <td>7</td>\n",
              "      <td>1013.67</td>\n",
              "      <td>52891.852500</td>\n",
              "    </tr>\n",
              "    <tr>\n",
              "      <th>1</th>\n",
              "      <td>CUS-2142601169</td>\n",
              "      <td>7</td>\n",
              "      <td>1002.13</td>\n",
              "      <td>52289.711786</td>\n",
              "    </tr>\n",
              "    <tr>\n",
              "      <th>2</th>\n",
              "      <td>CUS-1614226872</td>\n",
              "      <td>7</td>\n",
              "      <td>892.09</td>\n",
              "      <td>46547.981786</td>\n",
              "    </tr>\n",
              "    <tr>\n",
              "      <th>3</th>\n",
              "      <td>CUS-2688605418</td>\n",
              "      <td>14</td>\n",
              "      <td>2320.30</td>\n",
              "      <td>60534.969643</td>\n",
              "    </tr>\n",
              "    <tr>\n",
              "      <th>4</th>\n",
              "      <td>CUS-4123612273</td>\n",
              "      <td>7</td>\n",
              "      <td>1068.04</td>\n",
              "      <td>55728.801429</td>\n",
              "    </tr>\n",
              "  </tbody>\n",
              "</table>\n",
              "</div>"
            ],
            "text/plain": [
              "      customer_id  salary_freq  salary_amount  annual_salary\n",
              "0  CUS-2487424745            7        1013.67   52891.852500\n",
              "1  CUS-2142601169            7        1002.13   52289.711786\n",
              "2  CUS-1614226872            7         892.09   46547.981786\n",
              "3  CUS-2688605418           14        2320.30   60534.969643\n",
              "4  CUS-4123612273            7        1068.04   55728.801429"
            ]
          },
          "metadata": {},
          "execution_count": 39
        }
      ]
    },
    {
      "cell_type": "code",
      "metadata": {
        "colab": {
          "base_uri": "https://localhost:8080/",
          "height": 203
        },
        "id": "AsyqkqELh5h6",
        "outputId": "b105f99a-e6bf-46ff-de7e-a0f01773ae8f"
      },
      "source": [
        "# Concat annual salary column to features dataframe  \n",
        "df = pd.concat([features_df, salary_df.annual_salary], axis = 1)\n",
        "df.head()"
      ],
      "execution_count": 40,
      "outputs": [
        {
          "output_type": "execute_result",
          "data": {
            "text/html": [
              "<div>\n",
              "<style scoped>\n",
              "    .dataframe tbody tr th:only-of-type {\n",
              "        vertical-align: middle;\n",
              "    }\n",
              "\n",
              "    .dataframe tbody tr th {\n",
              "        vertical-align: top;\n",
              "    }\n",
              "\n",
              "    .dataframe thead th {\n",
              "        text-align: right;\n",
              "    }\n",
              "</style>\n",
              "<table border=\"1\" class=\"dataframe\">\n",
              "  <thead>\n",
              "    <tr style=\"text-align: right;\">\n",
              "      <th></th>\n",
              "      <th>customer_id</th>\n",
              "      <th>avg_no_weekly_trans</th>\n",
              "      <th>max_amount</th>\n",
              "      <th>no_large_trans</th>\n",
              "      <th>avg_trans_amount</th>\n",
              "      <th>median_balance</th>\n",
              "      <th>state</th>\n",
              "      <th>age</th>\n",
              "      <th>gender</th>\n",
              "      <th>annual_salary</th>\n",
              "    </tr>\n",
              "  </thead>\n",
              "  <tbody>\n",
              "    <tr>\n",
              "      <th>0</th>\n",
              "      <td>CUS-2487424745</td>\n",
              "      <td>48</td>\n",
              "      <td>1452.21</td>\n",
              "      <td>22</td>\n",
              "      <td>45.348772</td>\n",
              "      <td>1580.40</td>\n",
              "      <td>QLD</td>\n",
              "      <td>26</td>\n",
              "      <td>F</td>\n",
              "      <td>52891.852500</td>\n",
              "    </tr>\n",
              "    <tr>\n",
              "      <th>1</th>\n",
              "      <td>CUS-2142601169</td>\n",
              "      <td>29</td>\n",
              "      <td>2349.55</td>\n",
              "      <td>23</td>\n",
              "      <td>78.206106</td>\n",
              "      <td>1132.66</td>\n",
              "      <td>NSW</td>\n",
              "      <td>38</td>\n",
              "      <td>M</td>\n",
              "      <td>52289.711786</td>\n",
              "    </tr>\n",
              "    <tr>\n",
              "      <th>2</th>\n",
              "      <td>CUS-1614226872</td>\n",
              "      <td>24</td>\n",
              "      <td>892.09</td>\n",
              "      <td>22</td>\n",
              "      <td>74.465019</td>\n",
              "      <td>3618.50</td>\n",
              "      <td>QLD</td>\n",
              "      <td>40</td>\n",
              "      <td>F</td>\n",
              "      <td>46547.981786</td>\n",
              "    </tr>\n",
              "    <tr>\n",
              "      <th>3</th>\n",
              "      <td>CUS-2688605418</td>\n",
              "      <td>14</td>\n",
              "      <td>2320.30</td>\n",
              "      <td>25</td>\n",
              "      <td>159.304186</td>\n",
              "      <td>5616.63</td>\n",
              "      <td>NSW</td>\n",
              "      <td>20</td>\n",
              "      <td>M</td>\n",
              "      <td>60534.969643</td>\n",
              "    </tr>\n",
              "    <tr>\n",
              "      <th>4</th>\n",
              "      <td>CUS-4123612273</td>\n",
              "      <td>21</td>\n",
              "      <td>1068.04</td>\n",
              "      <td>32</td>\n",
              "      <td>166.508358</td>\n",
              "      <td>6162.45</td>\n",
              "      <td>VIC</td>\n",
              "      <td>43</td>\n",
              "      <td>F</td>\n",
              "      <td>55728.801429</td>\n",
              "    </tr>\n",
              "  </tbody>\n",
              "</table>\n",
              "</div>"
            ],
            "text/plain": [
              "      customer_id  avg_no_weekly_trans  max_amount  ...  age  gender  annual_salary\n",
              "0  CUS-2487424745                   48     1452.21  ...   26       F   52891.852500\n",
              "1  CUS-2142601169                   29     2349.55  ...   38       M   52289.711786\n",
              "2  CUS-1614226872                   24      892.09  ...   40       F   46547.981786\n",
              "3  CUS-2688605418                   14     2320.30  ...   20       M   60534.969643\n",
              "4  CUS-4123612273                   21     1068.04  ...   43       F   55728.801429\n",
              "\n",
              "[5 rows x 10 columns]"
            ]
          },
          "metadata": {},
          "execution_count": 40
        }
      ]
    },
    {
      "cell_type": "code",
      "metadata": {
        "colab": {
          "base_uri": "https://localhost:8080/"
        },
        "id": "WcG5X8hAh6z5",
        "outputId": "98fdfb67-a3d9-42e3-b1a8-33251cd621f2"
      },
      "source": [
        "# Check for missing values \n",
        "df.isnull().sum()"
      ],
      "execution_count": 41,
      "outputs": [
        {
          "output_type": "execute_result",
          "data": {
            "text/plain": [
              "customer_id            0\n",
              "avg_no_weekly_trans    0\n",
              "max_amount             0\n",
              "no_large_trans         0\n",
              "avg_trans_amount       0\n",
              "median_balance         0\n",
              "state                  0\n",
              "age                    0\n",
              "gender                 0\n",
              "annual_salary          0\n",
              "dtype: int64"
            ]
          },
          "metadata": {},
          "execution_count": 41
        }
      ]
    },
    {
      "cell_type": "markdown",
      "metadata": {
        "id": "J9sQbka_h_Gi"
      },
      "source": [
        "There are no missing values!\n",
        "\n",
        "Our final dataframe is now ready for some minor preprocessing and then we are good to go with modelling."
      ]
    },
    {
      "cell_type": "markdown",
      "metadata": {
        "id": "g0XngHpoiDwR"
      },
      "source": [
        "# **3. Preprocessing**"
      ]
    },
    {
      "cell_type": "markdown",
      "metadata": {
        "id": "wDe_t2HXiH6x"
      },
      "source": [
        "In this section, we will perform train and test split on our final dataframe as well as construct a column transformer which consists of one-hot-encoder and standard scaler.\n",
        "\n",
        "## **3.1. Train test split**\n",
        "Here, we will split 70% of the dataframe into training set, which is used to train our model and 30% of the dataframe into test set, which is used to assess model predictions."
      ]
    },
    {
      "cell_type": "code",
      "metadata": {
        "colab": {
          "base_uri": "https://localhost:8080/"
        },
        "id": "EaaRzG9niKdC",
        "outputId": "dca5e230-6f5e-41c3-d244-db95a6609d49"
      },
      "source": [
        "X = df.drop([\"customer_id\", \"annual_salary\"], axis = 1)\n",
        "Y = df.annual_salary\n",
        "print(\"X shape: \", X.shape)\n",
        "print(\"Y shape: \", Y.shape)"
      ],
      "execution_count": 42,
      "outputs": [
        {
          "output_type": "stream",
          "name": "stdout",
          "text": [
            "X shape:  (100, 8)\n",
            "Y shape:  (100,)\n"
          ]
        }
      ]
    },
    {
      "cell_type": "code",
      "metadata": {
        "colab": {
          "base_uri": "https://localhost:8080/"
        },
        "id": "jF6rWQqfiMR6",
        "outputId": "f776a050-cabb-4d2a-c489-1efb6270016a"
      },
      "source": [
        "X_train, X_test, Y_train, Y_test = train_test_split(X, Y, test_size = 0.3, random_state = 42)\n",
        "\n",
        "print(\"X_train shape: \", X_train.shape)\n",
        "print(\"Y_train shape: \", Y_train.shape)\n",
        "print(\"X_test shape: \", X_test.shape)\n",
        "print(\"Y_test shape: \", Y_test.shape)"
      ],
      "execution_count": 43,
      "outputs": [
        {
          "output_type": "stream",
          "name": "stdout",
          "text": [
            "X_train shape:  (70, 8)\n",
            "Y_train shape:  (70,)\n",
            "X_test shape:  (30, 8)\n",
            "Y_test shape:  (30,)\n"
          ]
        }
      ]
    },
    {
      "cell_type": "markdown",
      "metadata": {
        "id": "2ZFCfuugiPKS"
      },
      "source": [
        "## **3.2. Column transformer with one-hot encoder and standard scaler**\n",
        "Models cannot train on variables that contain text, therefore we need to encode both the state and gender columns using one-hot encoder. Furthermore, to ensure that each feature contributes proportionally to the final prediction, we need to scale all the numerical variables using standard scaler.\n",
        "\n",
        "We will include both the one-hot encoder and the standard scaler into a single column transformer."
      ]
    },
    {
      "cell_type": "code",
      "metadata": {
        "id": "lF_wpHzUiVHy"
      },
      "source": [
        "# Crete column transformer \n",
        "ohe = OneHotEncoder(sparse = False)\n",
        "scaler = StandardScaler()\n",
        "column_transform = make_column_transformer((ohe, [\"state\", \"gender\"]), (scaler, [\"avg_no_weekly_trans\", \"max_amount\", \"no_large_trans\", \"avg_trans_amount\", \"median_balance\", \"age\"]))"
      ],
      "execution_count": 44,
      "outputs": []
    },
    {
      "cell_type": "markdown",
      "metadata": {
        "id": "FdFLsxnBiZgT"
      },
      "source": [
        "# **4. Predict customers' annual salary**"
      ]
    },
    {
      "cell_type": "markdown",
      "metadata": {
        "id": "ud4kWhBjidth"
      },
      "source": [
        "Now that our column transformer is ready, we can build a pipeline using the column transformer and a machine learning model to predict customers' annual salary.\n",
        "\n",
        "Here, we will try two models:\n",
        "\n",
        "*   Linear regression\n",
        "*   Decision tree regressor\n",
        "\n",
        "## **4.1. Linear regression**"
      ]
    },
    {
      "cell_type": "code",
      "metadata": {
        "id": "h79CxNEuinOr"
      },
      "source": [
        "# Instantiate model and pipeline\n",
        "lm = LinearRegression()\n",
        "lm_pipeline = make_pipeline(column_transform, lm)"
      ],
      "execution_count": 45,
      "outputs": []
    },
    {
      "cell_type": "code",
      "metadata": {
        "id": "_tXF4k1yipNB"
      },
      "source": [
        "# Fit pipeline and make predictions \n",
        "lm_pipeline.fit(X_train, Y_train)\n",
        "lm_pred = lm_pipeline.predict(X_test)"
      ],
      "execution_count": 46,
      "outputs": []
    },
    {
      "cell_type": "code",
      "metadata": {
        "colab": {
          "base_uri": "https://localhost:8080/"
        },
        "id": "37F_sagBiqWS",
        "outputId": "0bf3ab99-5326-4898-daac-de8d22c76da4"
      },
      "source": [
        "# RMSE\n",
        "print(\"RMSE: \", round(np.sqrt(mean_squared_error(lm_pred, Y_test))))"
      ],
      "execution_count": 47,
      "outputs": [
        {
          "output_type": "stream",
          "name": "stdout",
          "text": [
            "RMSE:  27836\n"
          ]
        }
      ]
    },
    {
      "cell_type": "markdown",
      "metadata": {
        "id": "EfLBUz4tissB"
      },
      "source": [
        "## **4.2. Decision tree**"
      ]
    },
    {
      "cell_type": "code",
      "metadata": {
        "id": "mCFOhvWsiwOz"
      },
      "source": [
        "# Instantiate model and pipeline \n",
        "tree = DecisionTreeRegressor()\n",
        "tree_pipeline = make_pipeline(column_transform, tree)"
      ],
      "execution_count": 48,
      "outputs": []
    },
    {
      "cell_type": "code",
      "metadata": {
        "id": "eWn_wkzCiyPR"
      },
      "source": [
        "# Fit pipeline and make predictions \n",
        "tree_pipeline.fit(X_train, Y_train)\n",
        "tree_pred = tree_pipeline.predict(X_test)"
      ],
      "execution_count": 49,
      "outputs": []
    },
    {
      "cell_type": "code",
      "metadata": {
        "colab": {
          "base_uri": "https://localhost:8080/"
        },
        "id": "LqlhETssizxC",
        "outputId": "b38946b0-8ac2-4a2b-c5af-5630900e9356"
      },
      "source": [
        "# RMSE \n",
        "print(\"RMSE: \", round(np.sqrt(mean_squared_error(tree_pred, Y_test))))"
      ],
      "execution_count": 50,
      "outputs": [
        {
          "output_type": "stream",
          "name": "stdout",
          "text": [
            "RMSE:  22264\n"
          ]
        }
      ]
    },
    {
      "cell_type": "markdown",
      "metadata": {
        "id": "-1K9U7BDi2WL"
      },
      "source": [
        "# **5. Conclusion**\n",
        "The RMSE for both models are over $20,000 and although decision tree performed better than linear regression by having a smaller RMSE, both models still appear to be highly inaccurate. Therefore, it is risky to use them to predict customers' income bracket. More data is required to develop a more reliable model.\n",
        "\n"
      ]
    }
  ]
}